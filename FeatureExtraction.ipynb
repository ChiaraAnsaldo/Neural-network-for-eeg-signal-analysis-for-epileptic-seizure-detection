{
 "cells": [
  {
   "cell_type": "code",
   "execution_count": 22,
   "metadata": {},
   "outputs": [],
   "source": [
    "import pywt\n",
    "import math\n",
    "import numpy as np\n",
    "import pandas as pd\n",
    "from pyentrp import entropy\n",
    "from tqdm.notebook import tqdm\n",
    "from scipy.signal import welch\n",
    "from scipy.integrate import simps\n",
    "from scipy.stats import skew, kurtosis, variation\n",
    "from sklearn.utils import shuffle"
   ]
  },
  {
   "cell_type": "code",
   "execution_count": 23,
   "metadata": {},
   "outputs": [],
   "source": [
    "from ipynb.fs.full.Preprocessing import removeNonNumericValues, dimentionalityReduction, featureNormalization, undersamplingClusterCentroids, oversamplingSMOTE"
   ]
  },
  {
   "attachments": {},
   "cell_type": "markdown",
   "metadata": {},
   "source": [
    "TIme Domain Features"
   ]
  },
  {
   "cell_type": "code",
   "execution_count": 24,
   "metadata": {},
   "outputs": [],
   "source": [
    "def computeTimeDomainFeatures (x):\n",
    "    mean = np.mean(x)\n",
    "    var = np.var(x)\n",
    "    sk = skew(x)\n",
    "    kurt = kurtosis(x)\n",
    "    std = np.std(x)\n",
    "    median = np.median(x)\n",
    "    zcr = ((x[:-1] * x[1:]) < 0).sum() / len(x)\n",
    "    if x.mean() != 0:\n",
    "        cv = variation(x)\n",
    "    else:\n",
    "        cv = math.nan\n",
    "    if x.size > 0:\n",
    "        rms = np.sqrt(x.dot(x)/x.size)\n",
    "    else:\n",
    "        rms = math.nan\n",
    "    p2p = x.max() - x.min()\n",
    "    sampEn = entropy.sample_entropy(x, 1)[0]\n",
    "    return mean, var, sk, kurt, std, median, zcr, cv, rms, p2p, sampEn"
   ]
  },
  {
   "attachments": {},
   "cell_type": "markdown",
   "metadata": {},
   "source": [
    "Spectral Features"
   ]
  },
  {
   "cell_type": "code",
   "execution_count": 25,
   "metadata": {},
   "outputs": [],
   "source": [
    "'''\n",
    "Compute the average bandpower of an EEG signal\n",
    "https://raphaelvallat.com/bandpower.html\n",
    "'''\n",
    "\n",
    "def psd (x, fs, win):\n",
    "    bands = [0.5, 4, 8, 12, 30, 100]\n",
    "    freqs, psd = welch(x, fs, nperseg = win)\n",
    "    avg_power=[]\n",
    "    while len(bands)>1:\n",
    "        idx = np.logical_and(freqs >= bands[0], freqs <= bands[1])\n",
    "        power_simps = simps(psd[idx], dx=bands[1]-bands[0])\n",
    "        avg_power.append(power_simps)\n",
    "        bands = np.copy(bands[1:])\n",
    "    for p in avg_power:\n",
    "        yield p"
   ]
  },
  {
   "attachments": {},
   "cell_type": "markdown",
   "metadata": {},
   "source": [
    "Correlation Features"
   ]
  },
  {
   "cell_type": "code",
   "execution_count": 26,
   "metadata": {},
   "outputs": [],
   "source": [
    "def compute_correlation (left, right):\n",
    "    return abs(np.correlate(left, right, 'full')).max()"
   ]
  },
  {
   "attachments": {},
   "cell_type": "markdown",
   "metadata": {},
   "source": [
    "Feature Extraction"
   ]
  },
  {
   "cell_type": "code",
   "execution_count": 27,
   "metadata": {},
   "outputs": [],
   "source": [
    "def feature_extraction (df, sample_rate, step, pca_tolerance, undersampling_rate, oversampling_neighbors):\n",
    "    \n",
    "    print('Feature Extraction')\n",
    "    ft = pd.DataFrame()\n",
    "    c = 0\n",
    "    for i in tqdm(range (0, df.shape[0], step)):\n",
    "        temp = df.iloc[i:i+step]\n",
    "        for j in range(0, df.shape[1]-1):\n",
    "            s = np.array(temp.iloc[:, j])\n",
    "\n",
    "            # Time Domain Features\n",
    "            ft.loc[c, 'mean'+str(j)], ft.loc[c, 'var'+str(j)], ft.loc[c, 'skew'+str(j)],ft.loc[c, 'kurt'+str(j)], ft.loc[c, 'std'+str(j)], ft.loc[c, 'median'+str(j)], ft.loc[c, 'zcr'+str(j)], ft.loc[c, 'cv'+str(j)], ft.loc[c, 'rms'+str(j)], ft.loc[c, 'p2p'+str(j)],ft.loc[c, 'sampEn'+str(j)] = computeTimeDomainFeatures(s)\n",
    "\n",
    "            # Frequency Domain Features\n",
    "            ft.loc[c, 'deltaPower'+str(j)], ft.loc[c, 'thetaPower'+str(j)], ft.loc[c, 'alphaPower'+str(j)], ft.loc[c, 'betaPower'+str(j)], ft.loc[c, 'gammaPower'+str(j)] = psd(s, sample_rate, s.shape[0])\n",
    "\n",
    "        ft.loc[c, 'seizure'] = temp['seizure'].value_counts().idxmax()\n",
    "        c = c + 1\n",
    "\n",
    "    removeNonNumericValues(ft)\n",
    "\n",
    "    ft = featureNormalization(ft)\n",
    "    print('Normalized features')\n",
    "\n",
    "    removeNonNumericValues(ft)\n",
    "\n",
    "    size = ft.shape\n",
    "    print('Reducing features dimension')\n",
    "    ft = dimentionalityReduction(ft, pca_tolerance)\n",
    "    removeNonNumericValues(ft)\n",
    "    print('Dimensions reduced from', size, 'to', ft.shape)\n",
    "    size = ft.seizure.value_counts()\n",
    "\n",
    "    print('Undersampling the majority class using Cluster Centroid Method')\n",
    "    ft = undersamplingClusterCentroids(ft.loc[:, ft.columns != 'seizure'], ft['seizure'], undersampling_rate)\n",
    "    removeNonNumericValues(ft)\n",
    "    print('Majority class downsampled from (', size[0], ', ', ft.shape[1], ') to ', ft.shape, sep = '')\n",
    "    \n",
    "    size = ft.shape\n",
    "    print('Oversampling the minority class using SMOTE')\n",
    "    ft = oversamplingSMOTE(ft.loc[:, ft.columns != 'seizure'], ft['seizure'], oversampling_neighbors)\n",
    "    ft = shuffle(ft)\n",
    "    ft.reset_index(drop = True, inplace = True)\n",
    "    removeNonNumericValues(ft)\n",
    "    print('Minority class upsampled from (', size[0], ', ', ft.shape[1], ') to ', ft.shape, sep='')\n",
    "    \n",
    "    print('Writing features to a csv file\\n')\n",
    "    ft.to_csv('Features.csv', index = False)\n",
    "\n",
    "    return ft"
   ]
  }
 ],
 "metadata": {
  "kernelspec": {
   "display_name": "Python 3",
   "language": "python",
   "name": "python3"
  },
  "language_info": {
   "codemirror_mode": {
    "name": "ipython",
    "version": 3
   },
   "file_extension": ".py",
   "mimetype": "text/x-python",
   "name": "python",
   "nbconvert_exporter": "python",
   "pygments_lexer": "ipython3",
   "version": "3.10.11"
  },
  "orig_nbformat": 4
 },
 "nbformat": 4,
 "nbformat_minor": 2
}
