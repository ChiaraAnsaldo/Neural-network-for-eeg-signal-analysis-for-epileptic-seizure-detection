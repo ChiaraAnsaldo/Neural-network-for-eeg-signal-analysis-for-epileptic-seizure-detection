{
 "cells": [
  {
   "cell_type": "code",
   "execution_count": 1,
   "metadata": {},
   "outputs": [],
   "source": [
    "import numpy as np\n",
    "import pandas as pd\n",
    "\n",
    "from sklearn.preprocessing import StandardScaler\n",
    "\n",
    "from sklearn.decomposition import PCA\n",
    "\n",
    "from imblearn.over_sampling import SMOTE\n",
    "from imblearn.under_sampling import ClusterCentroids"
   ]
  },
  {
   "attachments": {},
   "cell_type": "markdown",
   "metadata": {},
   "source": [
    "Feature Normalization"
   ]
  },
  {
   "cell_type": "code",
   "execution_count": null,
   "metadata": {},
   "outputs": [],
   "source": [
    "def removeNonNumericValues(df):\n",
    "    df.replace([np.inf, -np.inf], np.nan, inplace = True)\n",
    "    df.dropna(inplace = True)"
   ]
  },
  {
   "cell_type": "code",
   "execution_count": null,
   "metadata": {},
   "outputs": [],
   "source": [
    "def featureNormalization(ft):\n",
    "    scaled_df = StandardScaler().fit_transform(ft.iloc[:, :ft.shape[1]-1])\n",
    "    norm_ft = pd.DataFrame(scaled_df)\n",
    "    norm_ft['seizure'] = ft['seizure'].copy()\n",
    "    return norm_ft"
   ]
  },
  {
   "attachments": {},
   "cell_type": "markdown",
   "metadata": {},
   "source": [
    "Feature Selection"
   ]
  },
  {
   "cell_type": "code",
   "execution_count": null,
   "metadata": {},
   "outputs": [],
   "source": [
    "def dimentionalityReduction(features, threshold):\n",
    "    ft = features.iloc[:, :features.columns.size-1]\n",
    "    pca_ft = pd.DataFrame(PCA(n_components = threshold).fit_transform(ft))\n",
    "    pca_ft['seizure'] = features['seizure'].copy()\n",
    "    return pca_ft"
   ]
  },
  {
   "attachments": {},
   "cell_type": "markdown",
   "metadata": {},
   "source": [
    "Undersampling"
   ]
  },
  {
   "cell_type": "code",
   "execution_count": null,
   "metadata": {},
   "outputs": [],
   "source": [
    "def undersamplingClusterCentroids(ft, ft_index, rate):\n",
    "    cc = ClusterCentroids(sampling_strategy = rate)\n",
    "    cc_features, cc_indicator = cc.fit_resample(ft, ft_index)\n",
    "    cc_features['seizure'] = cc_indicator\n",
    "    return cc_features"
   ]
  },
  {
   "attachments": {},
   "cell_type": "markdown",
   "metadata": {},
   "source": [
    "Oversampling"
   ]
  },
  {
   "cell_type": "code",
   "execution_count": null,
   "metadata": {},
   "outputs": [],
   "source": [
    "def oversamplingSMOTE(ft, ft_index, neighbors):\n",
    "    smote = SMOTE(sampling_strategy = 'minority', k_neighbors = neighbors)\n",
    "    smote_features, smote_indicator = smote.fit_resample(ft, ft_index)\n",
    "    smote_features['seizure'] = smote_indicator\n",
    "    return smote_features"
   ]
  }
 ],
 "metadata": {
  "kernelspec": {
   "display_name": "Python 3",
   "language": "python",
   "name": "python3"
  },
  "language_info": {
   "codemirror_mode": {
    "name": "ipython",
    "version": 3
   },
   "file_extension": ".py",
   "mimetype": "text/x-python",
   "name": "python",
   "nbconvert_exporter": "python",
   "pygments_lexer": "ipython3",
   "version": "3.10.11"
  },
  "orig_nbformat": 4
 },
 "nbformat": 4,
 "nbformat_minor": 2
}
