{
 "cells": [
  {
   "cell_type": "code",
   "execution_count": 10,
   "metadata": {},
   "outputs": [],
   "source": [
    "import numpy as np\n",
    "import pandas as pd\n",
    "import matplotlib.pyplot as plt\n",
    "import tensorflow as tf\n",
    "import tensorflow.keras.backend as K\n",
    "\n",
    "from sklearn.model_selection import KFold\n",
    "from keras.models import Model, Sequential\n",
    "from keras import layers\n",
    "from keras.utils import to_categorical\n",
    "from sklearn.model_selection import train_test_split"
   ]
  },
  {
   "cell_type": "code",
   "execution_count": 11,
   "metadata": {},
   "outputs": [],
   "source": [
    "from ipynb.fs.full.DatasetManage import read_and_store_data\n",
    "from ipynb.fs.full.FeatureExtraction import feature_extraction\n",
    "from ipynb.fs.full.ClassificationPerformanceIndexes import classificationPerformanceIndexes, printClassificationPerformanceIndexes\n",
    "from ipynb.fs.full.ClassificationMethods import CompleteLSTM"
   ]
  },
  {
   "attachments": {},
   "cell_type": "markdown",
   "metadata": {},
   "source": [
    "Parameter"
   ]
  },
  {
   "cell_type": "code",
   "execution_count": 12,
   "metadata": {},
   "outputs": [],
   "source": [
    "perfInd = ['Accuracy', 'Sensitivity', 'Specificity', 'Precision', 'F1 Score', 'MCC', 'Kappa', 'Time']\n",
    "channels = ['FP1-F7', 'F7-T7','T7-P7', 'P7-O1', 'FP1-F3', 'F3-C3', 'C3-P3', 'P3-O1', 'FP2-F4', 'F4-C4', 'C4-P4', 'P4-O2', 'FP2-F8', 'F8-T8', 'T8-P8', 'P8-O2', 'FZ-CZ', 'CZ-PZ', 'seizure']\n",
    "\n",
    "dataset = 'CHB_MIT'\n",
    "csvImportFile = 'CHB.csv'\n",
    "csvExportFile = 'CHB.csv'\n",
    "sample_rate = 256\n",
    "time_window = 2\n",
    "step = time_window * sample_rate\n",
    "\n",
    "test_ratio = 0.3\n",
    "\n",
    "pca_tolerance = 0.9\n",
    "\n",
    "undersampling_rate = 0.2\n",
    "\n",
    "oversampling_neighbors = 11\n",
    "\n",
    "k_fold = 5\n",
    "\n",
    "csvAverageFile = 'Features.csv'\n",
    "\n",
    "batch = 10\n",
    "epochs = 100\n",
    "dropout_percentage = 0.2\n",
    "loss_function = 'mean_squared_error'\n",
    "metric = 'accuracy'"
   ]
  },
  {
   "attachments": {},
   "cell_type": "markdown",
   "metadata": {},
   "source": [
    "Create Training and Test Data"
   ]
  },
  {
   "cell_type": "code",
   "execution_count": 13,
   "metadata": {},
   "outputs": [],
   "source": [
    "def trainTestData (features, test_ratio, k_fold, perfInd):\n",
    "    x = features.loc[:, features.columns != 'seizure']\n",
    "    y = features['seizure']\n",
    "    x_train, x_test, y_train, y_test = train_test_split(x, y, test_size = test_ratio, shuffle = True)\n",
    "    results = pd.DataFrame(columns = perfInd)\n",
    "    kf = KFold(n_splits = k_fold, shuffle = True)\n",
    "    return x_train, x_test, y_train, y_test, results, kf"
   ]
  },
  {
   "attachments": {},
   "cell_type": "markdown",
   "metadata": {},
   "source": [
    "Read and Store Data"
   ]
  },
  {
   "cell_type": "code",
   "execution_count": 14,
   "metadata": {},
   "outputs": [
    {
     "name": "stdout",
     "output_type": "stream",
     "text": [
      "Reading data from CHB.csv\n"
     ]
    }
   ],
   "source": [
    "print('Reading data from', csvImportFile)\n",
    "df = pd.read_csv(csvImportFile, delimiter = ',', header = 0)"
   ]
  },
  {
   "attachments": {},
   "cell_type": "markdown",
   "metadata": {},
   "source": [
    "Feature Extraction "
   ]
  },
  {
   "cell_type": "code",
   "execution_count": 15,
   "metadata": {},
   "outputs": [],
   "source": [
    "# ft = feature_extraction(df, sample_rate, step, pca_tolerance, undersampling_rate, oversampling_neighbors)"
   ]
  },
  {
   "attachments": {},
   "cell_type": "markdown",
   "metadata": {},
   "source": [
    "Train and Test process"
   ]
  },
  {
   "cell_type": "code",
   "execution_count": 16,
   "metadata": {},
   "outputs": [],
   "source": [
    "ft = pd.read_csv(csvAverageFile, delimiter = ',', header = 0)"
   ]
  },
  {
   "cell_type": "code",
   "execution_count": 17,
   "metadata": {},
   "outputs": [],
   "source": [
    "x_train, x_test, y_train, y_test, results, kf = trainTestData (ft, test_ratio, k_fold, perfInd)\n",
    "\n",
    "x_train = np.reshape(x_train.values, (x_train.shape[0], 1, x_train.shape[1]))\n",
    "y_train = y_train.values.astype(int)\n",
    "x_test = np.reshape(x_test.values, (x_test.shape[0], 1, x_test.shape[1]))\n",
    "y_test = y_test.values.astype(int)"
   ]
  },
  {
   "cell_type": "code",
   "execution_count": 18,
   "metadata": {},
   "outputs": [
    {
     "ename": "RuntimeError",
     "evalue": "You must compile your model before training/testing. Use `model.compile(optimizer, loss)`.",
     "output_type": "error",
     "traceback": [
      "\u001b[1;31m---------------------------------------------------------------------------\u001b[0m",
      "\u001b[1;31mRuntimeError\u001b[0m                              Traceback (most recent call last)",
      "\u001b[1;32mc:\\Users\\irene\\OneDrive\\Documenti\\GitHub\\Fuzzy-Project\\Main-Ire.ipynb Cell 14\u001b[0m in \u001b[0;36m<cell line: 11>\u001b[1;34m()\u001b[0m\n\u001b[0;32m      <a href='vscode-notebook-cell:/c%3A/Users/irene/OneDrive/Documenti/GitHub/Fuzzy-Project/Main-Ire.ipynb#X16sZmlsZQ%3D%3D?line=6'>7</a>\u001b[0m model\u001b[39m.\u001b[39madd(layers\u001b[39m.\u001b[39mGlobalAveragePooling1D())\n\u001b[0;32m      <a href='vscode-notebook-cell:/c%3A/Users/irene/OneDrive/Documenti/GitHub/Fuzzy-Project/Main-Ire.ipynb#X16sZmlsZQ%3D%3D?line=7'>8</a>\u001b[0m model\u001b[39m.\u001b[39madd(layers\u001b[39m.\u001b[39mDense(\u001b[39m1\u001b[39m))\n\u001b[1;32m---> <a href='vscode-notebook-cell:/c%3A/Users/irene/OneDrive/Documenti/GitHub/Fuzzy-Project/Main-Ire.ipynb#X16sZmlsZQ%3D%3D?line=10'>11</a>\u001b[0m history \u001b[39m=\u001b[39m model\u001b[39m.\u001b[39;49mfit(x_train,\n\u001b[0;32m     <a href='vscode-notebook-cell:/c%3A/Users/irene/OneDrive/Documenti/GitHub/Fuzzy-Project/Main-Ire.ipynb#X16sZmlsZQ%3D%3D?line=11'>12</a>\u001b[0m                     steps_per_epoch\u001b[39m=\u001b[39;49m\u001b[39m500\u001b[39;49m,\n\u001b[0;32m     <a href='vscode-notebook-cell:/c%3A/Users/irene/OneDrive/Documenti/GitHub/Fuzzy-Project/Main-Ire.ipynb#X16sZmlsZQ%3D%3D?line=12'>13</a>\u001b[0m                     epochs\u001b[39m=\u001b[39;49m\u001b[39m2\u001b[39;49m)\n",
      "File \u001b[1;32mc:\\Users\\irene\\anaconda3\\lib\\site-packages\\keras\\utils\\traceback_utils.py:70\u001b[0m, in \u001b[0;36mfilter_traceback.<locals>.error_handler\u001b[1;34m(*args, **kwargs)\u001b[0m\n\u001b[0;32m     67\u001b[0m     filtered_tb \u001b[39m=\u001b[39m _process_traceback_frames(e\u001b[39m.\u001b[39m__traceback__)\n\u001b[0;32m     68\u001b[0m     \u001b[39m# To get the full stack trace, call:\u001b[39;00m\n\u001b[0;32m     69\u001b[0m     \u001b[39m# `tf.debugging.disable_traceback_filtering()`\u001b[39;00m\n\u001b[1;32m---> 70\u001b[0m     \u001b[39mraise\u001b[39;00m e\u001b[39m.\u001b[39mwith_traceback(filtered_tb) \u001b[39mfrom\u001b[39;00m \u001b[39mNone\u001b[39m\n\u001b[0;32m     71\u001b[0m \u001b[39mfinally\u001b[39;00m:\n\u001b[0;32m     72\u001b[0m     \u001b[39mdel\u001b[39;00m filtered_tb\n",
      "File \u001b[1;32mc:\\Users\\irene\\anaconda3\\lib\\site-packages\\keras\\engine\\training.py:3685\u001b[0m, in \u001b[0;36mModel._assert_compile_was_called\u001b[1;34m(self)\u001b[0m\n\u001b[0;32m   3679\u001b[0m \u001b[39mdef\u001b[39;00m \u001b[39m_assert_compile_was_called\u001b[39m(\u001b[39mself\u001b[39m):\n\u001b[0;32m   3680\u001b[0m     \u001b[39m# Checks whether `compile` has been called. If it has been called,\u001b[39;00m\n\u001b[0;32m   3681\u001b[0m     \u001b[39m# then the optimizer is set. This is different from whether the\u001b[39;00m\n\u001b[0;32m   3682\u001b[0m     \u001b[39m# model is compiled\u001b[39;00m\n\u001b[0;32m   3683\u001b[0m     \u001b[39m# (i.e. whether the model is built and its inputs/outputs are set).\u001b[39;00m\n\u001b[0;32m   3684\u001b[0m     \u001b[39mif\u001b[39;00m \u001b[39mnot\u001b[39;00m \u001b[39mself\u001b[39m\u001b[39m.\u001b[39m_is_compiled:\n\u001b[1;32m-> 3685\u001b[0m         \u001b[39mraise\u001b[39;00m \u001b[39mRuntimeError\u001b[39;00m(\n\u001b[0;32m   3686\u001b[0m             \u001b[39m\"\u001b[39m\u001b[39mYou must compile your model before \u001b[39m\u001b[39m\"\u001b[39m\n\u001b[0;32m   3687\u001b[0m             \u001b[39m\"\u001b[39m\u001b[39mtraining/testing. \u001b[39m\u001b[39m\"\u001b[39m\n\u001b[0;32m   3688\u001b[0m             \u001b[39m\"\u001b[39m\u001b[39mUse `model.compile(optimizer, loss)`.\u001b[39m\u001b[39m\"\u001b[39m\n\u001b[0;32m   3689\u001b[0m         )\n",
      "\u001b[1;31mRuntimeError\u001b[0m: You must compile your model before training/testing. Use `model.compile(optimizer, loss)`."
     ]
    }
   ],
   "source": [
    "model = Sequential()\n",
    "model.add(layers.Conv1D(8, 24, activation='relu', input_shape=(None, x_train.shape[-1])))\n",
    "model.add(layers.MaxPooling1D(2))\n",
    "model.add(layers.Conv1D(8, 12, activation='relu'))\n",
    "model.add(layers.MaxPooling1D(2))\n",
    "model.add(layers.Conv1D(8, 6, activation='relu'))\n",
    "model.add(layers.GlobalAveragePooling1D())\n",
    "model.add(layers.Dense(1))\n",
    "\n",
    "\n",
    "history = model.fit(x_train,\n",
    "                    steps_per_epoch=500,\n",
    "                    epochs=2)\n"
   ]
  },
  {
   "attachments": {},
   "cell_type": "markdown",
   "metadata": {},
   "source": [
    "1D Convolutional Model"
   ]
  },
  {
   "cell_type": "code",
   "execution_count": null,
   "metadata": {},
   "outputs": [],
   "source": [
    "# Definizione dell'architettura della rete neurale\n",
    "\n",
    "num_classes = 2\n",
    "input_channels = 87\n",
    "\n",
    "model = tf.keras.Sequential()\n",
    "model.add(layers.Conv1D(8, 24, activation='relu', input_shape=(1, input_channels)))\n",
    "model.add(layers.MaxPooling1D(2))\n",
    "model.add(layers.Conv1D(8, 12, activation='relu'))\n",
    "model.add(layers.MaxPooling1D(2))\n",
    "model.add(layers.Conv1D(8, 6, activation='relu'))\n",
    "model.add(layers.GlobalAveragePooling1D())\n",
    "model.add(layers.Dense(64, activation='relu'))\n",
    "model.add(layers.Dense(num_classes, activation='softmax'))\n",
    "\n",
    "# Compilazione del modello\n",
    "model.compile(optimizer='adam',\n",
    "              loss='categorical_crossentropy',\n",
    "              metrics=['accuracy'])\n",
    "\n",
    "# model.compile(optimizer='rmsprop', loss='mae')\n",
    "\n",
    "# Training \n",
    "\n",
    "# X_train = X_train.reshape(-1, input_length, input_channels)\n",
    "\n",
    "num_epochs = 20\n",
    "batch_size = 8\n",
    "model.fit(x_train, y_train, epochs=num_epochs, batch_size=batch_size)\n",
    "\n",
    "# Evaluation of the model\n",
    "\n",
    "# X_test = X_test.reshape(-1, input_length, input_channels)\n",
    "loss, accuracy = model.evaluate(x_test, y_test, batch_size=batch_size)\n",
    "\n",
    "# Utilizzo del modello per effettuare predizioni\n",
    "predictions = model.predict(x_test)\n"
   ]
  },
  {
   "attachments": {},
   "cell_type": "markdown",
   "metadata": {},
   "source": [
    "1D CN"
   ]
  },
  {
   "cell_type": "code",
   "execution_count": null,
   "metadata": {},
   "outputs": [],
   "source": [
    "model = Sequential()\n",
    "model.add(layers.Conv1D(8, 24, activation='relu', input_shape=(None, x_train.shape[-1])))\n",
    "model.add(layers.MaxPooling1D(2))\n",
    "model.add(layers.Conv1D(8, 12, activation='relu'))\n",
    "model.add(layers.MaxPooling1D(2))\n",
    "model.add(layers.Conv1D(8, 6, activation='relu'))\n",
    "model.add(layers.GlobalAveragePooling1D())\n",
    "model.add(layers.Dense(1))\n",
    "\n",
    "model.compile(optimizer='rmsprop', loss='mae')\n",
    "history = model.fit(x_train,\n",
    "                    y_train,\n",
    "                    steps_per_epoch=350,\n",
    "                    epochs=20)"
   ]
  },
  {
   "attachments": {},
   "cell_type": "markdown",
   "metadata": {},
   "source": [
    "GRU"
   ]
  },
  {
   "cell_type": "code",
   "execution_count": 110,
   "metadata": {},
   "outputs": [
    {
     "name": "stdout",
     "output_type": "stream",
     "text": [
      "Epoch 1/40\n",
      "500/500 [==============================] - 3s 2ms/step - loss: 0.2975 - accuracy: 0.8840\n",
      "Epoch 2/40\n",
      "500/500 [==============================] - 1s 2ms/step - loss: 0.1716 - accuracy: 0.9520\n",
      "Epoch 3/40\n",
      "500/500 [==============================] - 1s 2ms/step - loss: 0.1476 - accuracy: 0.9640\n",
      "Epoch 4/40\n",
      "500/500 [==============================] - 1s 3ms/step - loss: 0.1261 - accuracy: 0.9700\n",
      "Epoch 5/40\n",
      "500/500 [==============================] - 1s 3ms/step - loss: 0.1134 - accuracy: 0.9780\n",
      "Epoch 6/40\n",
      "500/500 [==============================] - 1s 2ms/step - loss: 0.0931 - accuracy: 0.9880\n",
      "Epoch 7/40\n",
      "500/500 [==============================] - 1s 2ms/step - loss: 0.0946 - accuracy: 0.9760\n",
      "Epoch 8/40\n",
      "500/500 [==============================] - 1s 2ms/step - loss: 0.0860 - accuracy: 0.9780\n",
      "Epoch 9/40\n",
      "500/500 [==============================] - 1s 2ms/step - loss: 0.0809 - accuracy: 0.9780\n",
      "Epoch 10/40\n",
      "500/500 [==============================] - 1s 2ms/step - loss: 0.0680 - accuracy: 0.9840\n",
      "Epoch 11/40\n",
      "500/500 [==============================] - 1s 2ms/step - loss: 0.0703 - accuracy: 0.9820\n",
      "Epoch 12/40\n",
      "500/500 [==============================] - 1s 2ms/step - loss: 0.0664 - accuracy: 0.9780\n",
      "Epoch 13/40\n",
      "500/500 [==============================] - 1s 2ms/step - loss: 0.0585 - accuracy: 0.9820\n",
      "Epoch 14/40\n",
      "500/500 [==============================] - 1s 2ms/step - loss: 0.0531 - accuracy: 0.9880\n",
      "Epoch 15/40\n",
      "500/500 [==============================] - 1s 2ms/step - loss: 0.0590 - accuracy: 0.9820\n",
      "Epoch 16/40\n",
      "500/500 [==============================] - 1s 2ms/step - loss: 0.0536 - accuracy: 0.9840\n",
      "Epoch 17/40\n",
      "500/500 [==============================] - 1s 2ms/step - loss: 0.0498 - accuracy: 0.9880\n",
      "Epoch 18/40\n",
      "500/500 [==============================] - 1s 2ms/step - loss: 0.0500 - accuracy: 0.9860\n",
      "Epoch 19/40\n",
      "500/500 [==============================] - 1s 2ms/step - loss: 0.0478 - accuracy: 0.9840\n",
      "Epoch 20/40\n",
      "500/500 [==============================] - 1s 2ms/step - loss: 0.0438 - accuracy: 0.9900\n",
      "Epoch 21/40\n",
      "500/500 [==============================] - 1s 2ms/step - loss: 0.0440 - accuracy: 0.9880\n",
      "Epoch 22/40\n",
      "500/500 [==============================] - 1s 2ms/step - loss: 0.0416 - accuracy: 0.9860\n",
      "Epoch 23/40\n",
      "500/500 [==============================] - 1s 3ms/step - loss: 0.0450 - accuracy: 0.9840\n",
      "Epoch 24/40\n",
      "500/500 [==============================] - 1s 2ms/step - loss: 0.0399 - accuracy: 0.9880\n",
      "Epoch 25/40\n",
      "500/500 [==============================] - 1s 2ms/step - loss: 0.0396 - accuracy: 0.9880\n",
      "Epoch 26/40\n",
      "500/500 [==============================] - 1s 2ms/step - loss: 0.0397 - accuracy: 0.9860\n",
      "Epoch 27/40\n",
      "500/500 [==============================] - 1s 2ms/step - loss: 0.0379 - accuracy: 0.9860\n",
      "Epoch 28/40\n",
      "500/500 [==============================] - 1s 2ms/step - loss: 0.0356 - accuracy: 0.9900\n",
      "Epoch 29/40\n",
      "500/500 [==============================] - 1s 2ms/step - loss: 0.0364 - accuracy: 0.9880\n",
      "Epoch 30/40\n",
      "500/500 [==============================] - 1s 2ms/step - loss: 0.0341 - accuracy: 0.9880\n",
      "Epoch 31/40\n",
      "500/500 [==============================] - 1s 2ms/step - loss: 0.0343 - accuracy: 0.9900\n",
      "Epoch 32/40\n",
      "162/500 [========>.....................] - ETA: 0s - loss: 0.0303 - accuracy: 0.9877WARNING:tensorflow:Your input ran out of data; interrupting training. Make sure that your dataset or generator can generate at least `steps_per_epoch * epochs` batches (in this case, 20000 batches). You may need to use the repeat() function when building your dataset.\n",
      "500/500 [==============================] - 0s 829us/step - loss: 0.0388 - accuracy: 0.9778\n"
     ]
    }
   ],
   "source": [
    "model = Sequential()\n",
    "model.add(layers.GRU(32, input_shape=(None, x_train.shape[-1])))\n",
    "model.add(layers.Dense(1))\n",
    "\n",
    "model.compile(optimizer='rmsprop', loss='mae', metrics=['accuracy'])\n",
    "history0= model.fit(x_train,\n",
    "                    y_train,\n",
    "                    steps_per_epoch=500,\n",
    "                    epochs=40)\n"
   ]
  },
  {
   "cell_type": "code",
   "execution_count": 83,
   "metadata": {},
   "outputs": [
    {
     "data": {
      "image/png": "[encoded data removed]",
      "text/plain": [
       "<Figure size 432x288 with 1 Axes>"
      ]
     },
     "metadata": {
      "needs_background": "light"
     },
     "output_type": "display_data"
    },
    {
     "data": {
      "image/png": "[encoded data removed]",
      "text/plain": [
       "<Figure size 432x288 with 1 Axes>"
      ]
     },
     "metadata": {
      "needs_background": "light"
     },
     "output_type": "display_data"
    }
   ],
   "source": [
    "loss = history0.history['loss']\n",
    "acc = history0.history['accuracy']\n",
    "\n",
    "epochs = range(len(loss))\n",
    "\n",
    "plt.figure()\n",
    "\n",
    "plt.plot(epochs, loss, label='Training loss')\n",
    "plt.title('Training loss')\n",
    "plt.legend()\n",
    "\n",
    "plt.show()\n",
    "\n",
    "\n",
    "plt.figure()\n",
    "\n",
    "plt.plot(epochs, acc, label='Accuracy')\n",
    "plt.title('Training accuracy')\n",
    "plt.legend()\n",
    "\n",
    "plt.show()"
   ]
  },
  {
   "attachments": {},
   "cell_type": "markdown",
   "metadata": {},
   "source": [
    "Tentativo 1"
   ]
  },
  {
   "cell_type": "code",
   "execution_count": 84,
   "metadata": {},
   "outputs": [
    {
     "name": "stdout",
     "output_type": "stream",
     "text": [
      "Epoch 1/15\n",
      "500/500 [==============================] - 5s 3ms/step - loss: 0.2474 - accuracy: 0.9220\n",
      "Epoch 2/15\n",
      "500/500 [==============================] - 2s 3ms/step - loss: 0.0728 - accuracy: 0.9800\n",
      "Epoch 3/15\n",
      "500/500 [==============================] - 2s 3ms/step - loss: 0.0486 - accuracy: 0.9840\n",
      "Epoch 4/15\n",
      "500/500 [==============================] - 2s 3ms/step - loss: 0.0370 - accuracy: 0.9860\n",
      "Epoch 5/15\n",
      "500/500 [==============================] - 1s 3ms/step - loss: 0.0298 - accuracy: 0.9900\n",
      "Epoch 6/15\n",
      "500/500 [==============================] - 2s 3ms/step - loss: 0.0145 - accuracy: 0.9940\n",
      "Epoch 7/15\n",
      "500/500 [==============================] - 2s 3ms/step - loss: 0.0124 - accuracy: 0.9960\n",
      "Epoch 8/15\n",
      "500/500 [==============================] - 2s 3ms/step - loss: 0.0022 - accuracy: 1.0000\n",
      "Epoch 9/15\n",
      "500/500 [==============================] - 1s 3ms/step - loss: 0.0010 - accuracy: 1.0000\n",
      "Epoch 10/15\n",
      "500/500 [==============================] - 2s 3ms/step - loss: 3.9036e-04 - accuracy: 1.0000\n",
      "Epoch 11/15\n",
      "500/500 [==============================] - 1s 3ms/step - loss: 2.8280e-04 - accuracy: 1.0000\n",
      "Epoch 12/15\n",
      "369/500 [=====================>........] - ETA: 0s - loss: 1.8850e-04 - accuracy: 1.0000WARNING:tensorflow:Your input ran out of data; interrupting training. Make sure that your dataset or generator can generate at least `steps_per_epoch * epochs` batches (in this case, 7500 batches). You may need to use the repeat() function when building your dataset.\n",
      "500/500 [==============================] - 1s 2ms/step - loss: 1.8494e-04 - accuracy: 1.0000\n"
     ]
    }
   ],
   "source": [
    "from keras import optimizers\n",
    "\n",
    "model = Sequential()\n",
    "model.add(layers.GRU(64, input_shape=(None, x_train.shape[-1]), return_sequences=True))\n",
    "model.add(layers.GRU(32))\n",
    "model.add(layers.Dense(1, activation='sigmoid'))\n",
    "\n",
    "optimizer = optimizers.Adam(learning_rate=0.001)  # Utilizzo dell'ottimizzatore Adam con un learning rate più basso\n",
    "model.compile(optimizer=optimizer, loss='binary_crossentropy', metrics=['accuracy'])  # Utilizzo della binary cross-entropy per un problema di classificazione binaria\n",
    "\n",
    "history1 = model.fit(x_train,\n",
    "                    y_train,\n",
    "                    steps_per_epoch=500,\n",
    "                    epochs=15)\n"
   ]
  },
  {
   "cell_type": "code",
   "execution_count": 75,
   "metadata": {},
   "outputs": [
    {
     "data": {
      "image/png": "[encoded data removed]",
      "text/plain": [
       "<Figure size 432x288 with 1 Axes>"
      ]
     },
     "metadata": {
      "needs_background": "light"
     },
     "output_type": "display_data"
    },
    {
     "data": {
      "image/png": "[encoded data removed]",
      "text/plain": [
       "<Figure size 432x288 with 1 Axes>"
      ]
     },
     "metadata": {
      "needs_background": "light"
     },
     "output_type": "display_data"
    }
   ],
   "source": [
    "loss = history1.history['loss']\n",
    "acc = history1.history['accuracy']\n",
    "\n",
    "epochs = range(len(loss))\n",
    "\n",
    "plt.figure()\n",
    "\n",
    "plt.plot(epochs, loss, label='Training loss')\n",
    "plt.title('Training loss')\n",
    "plt.legend()\n",
    "\n",
    "plt.show()\n",
    "\n",
    "\n",
    "plt.figure()\n",
    "\n",
    "plt.plot(epochs, acc, label='Accuracy')\n",
    "plt.title('Training accuracy')\n",
    "plt.legend()\n",
    "\n",
    "plt.show()"
   ]
  },
  {
   "attachments": {},
   "cell_type": "markdown",
   "metadata": {},
   "source": [
    "Tentativo 2"
   ]
  },
  {
   "cell_type": "code",
   "execution_count": 68,
   "metadata": {},
   "outputs": [
    {
     "name": "stdout",
     "output_type": "stream",
     "text": [
      "Epoch 1/20\n",
      "10/10 [==============================] - 5s 79ms/step - loss: 0.6196 - accuracy: 0.7380 - val_loss: 0.5595 - val_accuracy: 0.8354\n",
      "Epoch 2/20\n",
      "10/10 [==============================] - 0s 8ms/step - loss: 0.4622 - accuracy: 0.9073 - val_loss: 0.4515 - val_accuracy: 0.8481\n",
      "Epoch 3/20\n",
      "10/10 [==============================] - 0s 9ms/step - loss: 0.3418 - accuracy: 0.9233 - val_loss: 0.3720 - val_accuracy: 0.8734\n",
      "Epoch 4/20\n",
      "10/10 [==============================] - 0s 10ms/step - loss: 0.2483 - accuracy: 0.9457 - val_loss: 0.3226 - val_accuracy: 0.8734\n",
      "Epoch 5/20\n",
      "10/10 [==============================] - 0s 11ms/step - loss: 0.1875 - accuracy: 0.9617 - val_loss: 0.2954 - val_accuracy: 0.8734\n",
      "Epoch 6/20\n",
      "10/10 [==============================] - 0s 11ms/step - loss: 0.1508 - accuracy: 0.9681 - val_loss: 0.2799 - val_accuracy: 0.8861\n",
      "Epoch 7/20\n",
      "10/10 [==============================] - 0s 11ms/step - loss: 0.1240 - accuracy: 0.9776 - val_loss: 0.2734 - val_accuracy: 0.8861\n",
      "Epoch 8/20\n",
      "10/10 [==============================] - 0s 11ms/step - loss: 0.1071 - accuracy: 0.9776 - val_loss: 0.2690 - val_accuracy: 0.8861\n",
      "Epoch 9/20\n",
      "10/10 [==============================] - 0s 10ms/step - loss: 0.0940 - accuracy: 0.9808 - val_loss: 0.2668 - val_accuracy: 0.8861\n",
      "Epoch 10/20\n",
      "10/10 [==============================] - 0s 12ms/step - loss: 0.0840 - accuracy: 0.9808 - val_loss: 0.2649 - val_accuracy: 0.8861\n",
      "Epoch 11/20\n",
      "10/10 [==============================] - 0s 12ms/step - loss: 0.0767 - accuracy: 0.9840 - val_loss: 0.2621 - val_accuracy: 0.8861\n",
      "Epoch 12/20\n",
      "10/10 [==============================] - 0s 12ms/step - loss: 0.0691 - accuracy: 0.9872 - val_loss: 0.2623 - val_accuracy: 0.8861\n",
      "Epoch 13/20\n",
      "10/10 [==============================] - 0s 11ms/step - loss: 0.0648 - accuracy: 0.9872 - val_loss: 0.2626 - val_accuracy: 0.8861\n",
      "Epoch 14/20\n",
      "10/10 [==============================] - 0s 13ms/step - loss: 0.0590 - accuracy: 0.9872 - val_loss: 0.2620 - val_accuracy: 0.8861\n",
      "Epoch 15/20\n",
      "10/10 [==============================] - 0s 12ms/step - loss: 0.0555 - accuracy: 0.9872 - val_loss: 0.2612 - val_accuracy: 0.8861\n",
      "Epoch 16/20\n",
      "10/10 [==============================] - 0s 12ms/step - loss: 0.0514 - accuracy: 0.9904 - val_loss: 0.2584 - val_accuracy: 0.8861\n",
      "Epoch 17/20\n",
      "10/10 [==============================] - 0s 11ms/step - loss: 0.0481 - accuracy: 0.9904 - val_loss: 0.2590 - val_accuracy: 0.8987\n",
      "Epoch 18/20\n",
      "10/10 [==============================] - 0s 11ms/step - loss: 0.0454 - accuracy: 0.9904 - val_loss: 0.2568 - val_accuracy: 0.8987\n",
      "Epoch 19/20\n",
      "10/10 [==============================] - 0s 12ms/step - loss: 0.0428 - accuracy: 0.9904 - val_loss: 0.2544 - val_accuracy: 0.9114\n",
      "Epoch 20/20\n",
      "10/10 [==============================] - 0s 12ms/step - loss: 0.0403 - accuracy: 0.9904 - val_loss: 0.2543 - val_accuracy: 0.9114\n"
     ]
    }
   ],
   "source": [
    "from keras import layers, optimizers\n",
    "from keras.models import Sequential\n",
    "\n",
    "model = Sequential()\n",
    "model.add(layers.GRU(64, input_shape=(None, x_train.shape[-1]), return_sequences=True))\n",
    "model.add(layers.GRU(32))\n",
    "model.add(layers.Dense(1, activation='sigmoid'))\n",
    "\n",
    "optimizer = optimizers.Adam(learning_rate=0.001)\n",
    "model.compile(optimizer=optimizer, loss='binary_crossentropy', metrics=['accuracy'])\n",
    "\n",
    "history2 = model.fit(x_train,\n",
    "                    y_train,\n",
    "                    batch_size=32,  # Modifica: Riduci le dimensioni del batch\n",
    "                    epochs=20,  # Modifica: Aumenta il numero di epoche\n",
    "                    validation_split=0.2)  # Modifica: Aggiungi la validazione durante l'addestramento\n"
   ]
  },
  {
   "cell_type": "code",
   "execution_count": 85,
   "metadata": {},
   "outputs": [
    {
     "data": {
      "image/png": "[encoded data removed]",
      "text/plain": [
       "<Figure size 432x288 with 1 Axes>"
      ]
     },
     "metadata": {
      "needs_background": "light"
     },
     "output_type": "display_data"
    },
    {
     "data": {
      "image/png": "[encoded data removed]",
      "text/plain": [
       "<Figure size 432x288 with 1 Axes>"
      ]
     },
     "metadata": {
      "needs_background": "light"
     },
     "output_type": "display_data"
    }
   ],
   "source": [
    "loss = history2.history['loss']\n",
    "acc = history2.history['accuracy']\n",
    "\n",
    "epochs = range(len(loss))\n",
    "\n",
    "plt.figure()\n",
    "\n",
    "plt.plot(epochs, loss, label='Training loss')\n",
    "plt.title('Training loss')\n",
    "plt.legend()\n",
    "\n",
    "plt.show()\n",
    "\n",
    "\n",
    "plt.figure()\n",
    "\n",
    "plt.plot(epochs, acc, label='Accuracy')\n",
    "plt.title('Training accuracy')\n",
    "plt.legend()\n",
    "\n",
    "plt.show()"
   ]
  },
  {
   "attachments": {},
   "cell_type": "markdown",
   "metadata": {},
   "source": [
    "Tentativo 3"
   ]
  },
  {
   "attachments": {},
   "cell_type": "markdown",
   "metadata": {},
   "source": [
    "Confronto original, tentativo, tentativo 2 e tentativo 3 \n"
   ]
  },
  {
   "cell_type": "code",
   "execution_count": 111,
   "metadata": {},
   "outputs": [
    {
     "data": {
      "image/png": "[encoded data removed]",
      "text/plain": [
       "<Figure size 432x288 with 1 Axes>"
      ]
     },
     "metadata": {
      "needs_background": "light"
     },
     "output_type": "display_data"
    }
   ],
   "source": [
    "import matplotlib.pyplot as plt\n",
    "\n",
    "# Primo plot\n",
    "loss0 = history0.history['loss']\n",
    "acc0 = history0.history['accuracy']\n",
    "epochs0 = range(len(loss0))\n",
    "plt.plot(epochs0, loss0, label='Training Loss 0')\n",
    "plt.plot(epochs0, acc0, label='Training Accuracy 0')\n",
    "\n",
    "# Secondo plot\n",
    "loss1 = history1.history['loss']\n",
    "acc1 = history1.history['accuracy']\n",
    "epochs1 = range(len(loss1))\n",
    "plt.plot(epochs1, loss1, label='Training Loss 1')\n",
    "plt.plot(epochs1, acc1, label='Training Accuracy 1')\n",
    "\n",
    "# Terzo plot\n",
    "loss2 = history2.history['loss']\n",
    "acc2 = history2.history['accuracy']\n",
    "epochs2 = range(len(loss2))\n",
    "plt.plot(epochs2, loss2, label='Training Loss 2')\n",
    "plt.plot(epochs2, acc2, label='Training Accuracy 2')\n",
    "\n",
    "# Quarto plot\n",
    "loss3 = history3.history['loss']\n",
    "acc3 = history3.history['accuracy']\n",
    "epochs3 = range(len(loss3))\n",
    "plt.plot(epochs3, loss3, label='Training Loss 3')\n",
    "plt.plot(epochs3, acc3, label='Training Accuracy 3')\n",
    "\n",
    "# Grafico combinato\n",
    "plt.title('Comparison of Training Loss and Accuracy')\n",
    "plt.xlabel('Epochs')\n",
    "plt.ylabel('Loss / Accuracy')\n",
    "plt.legend()\n",
    "\n",
    "# Mostra il grafico\n",
    "plt.show()"
   ]
  },
  {
   "attachments": {},
   "cell_type": "markdown",
   "metadata": {},
   "source": [
    "Dropout"
   ]
  },
  {
   "cell_type": "code",
   "execution_count": 95,
   "metadata": {},
   "outputs": [
    {
     "name": "stdout",
     "output_type": "stream",
     "text": [
      "Epoch 1/40\n",
      "500/500 [==============================] - 2s 2ms/step - loss: 0.3820 - accuracy: 0.8120\n",
      "Epoch 2/40\n",
      "500/500 [==============================] - 1s 2ms/step - loss: 0.2452 - accuracy: 0.9180\n",
      "Epoch 3/40\n",
      "500/500 [==============================] - 1s 2ms/step - loss: 0.2033 - accuracy: 0.9320\n",
      "Epoch 4/40\n",
      "500/500 [==============================] - 1s 2ms/step - loss: 0.1702 - accuracy: 0.9580\n",
      "Epoch 5/40\n",
      "500/500 [==============================] - 1s 2ms/step - loss: 0.1578 - accuracy: 0.9500\n",
      "Epoch 6/40\n",
      "500/500 [==============================] - 1s 2ms/step - loss: 0.1399 - accuracy: 0.9740\n",
      "Epoch 7/40\n",
      "500/500 [==============================] - 1s 2ms/step - loss: 0.1264 - accuracy: 0.9620\n",
      "Epoch 8/40\n",
      "500/500 [==============================] - 1s 2ms/step - loss: 0.1155 - accuracy: 0.9680\n",
      "Epoch 9/40\n",
      "500/500 [==============================] - 1s 2ms/step - loss: 0.1170 - accuracy: 0.9740\n",
      "Epoch 10/40\n",
      "500/500 [==============================] - 1s 2ms/step - loss: 0.1102 - accuracy: 0.9760\n",
      "Epoch 11/40\n",
      "500/500 [==============================] - 1s 2ms/step - loss: 0.1002 - accuracy: 0.9780\n",
      "Epoch 12/40\n",
      "500/500 [==============================] - 1s 2ms/step - loss: 0.0959 - accuracy: 0.9740\n",
      "Epoch 13/40\n",
      "500/500 [==============================] - 1s 2ms/step - loss: 0.0943 - accuracy: 0.9760\n",
      "Epoch 14/40\n",
      "500/500 [==============================] - 1s 2ms/step - loss: 0.0844 - accuracy: 0.9820\n",
      "Epoch 15/40\n",
      "500/500 [==============================] - 1s 2ms/step - loss: 0.0804 - accuracy: 0.9740\n",
      "Epoch 16/40\n",
      "500/500 [==============================] - 1s 2ms/step - loss: 0.0820 - accuracy: 0.9760\n",
      "Epoch 17/40\n",
      "500/500 [==============================] - 1s 2ms/step - loss: 0.0733 - accuracy: 0.9820\n",
      "Epoch 18/40\n",
      "500/500 [==============================] - 1s 2ms/step - loss: 0.0804 - accuracy: 0.9780\n",
      "Epoch 19/40\n",
      "500/500 [==============================] - 1s 2ms/step - loss: 0.0735 - accuracy: 0.9740\n",
      "Epoch 20/40\n",
      "500/500 [==============================] - 1s 3ms/step - loss: 0.0771 - accuracy: 0.9740\n",
      "Epoch 21/40\n",
      "500/500 [==============================] - 1s 2ms/step - loss: 0.0752 - accuracy: 0.9780\n",
      "Epoch 22/40\n",
      "500/500 [==============================] - 1s 2ms/step - loss: 0.0701 - accuracy: 0.9820\n",
      "Epoch 23/40\n",
      "500/500 [==============================] - 1s 2ms/step - loss: 0.0708 - accuracy: 0.9800\n",
      "Epoch 24/40\n",
      "500/500 [==============================] - 1s 2ms/step - loss: 0.0721 - accuracy: 0.9720\n",
      "Epoch 25/40\n",
      "500/500 [==============================] - 1s 2ms/step - loss: 0.0663 - accuracy: 0.9820\n",
      "Epoch 26/40\n",
      "500/500 [==============================] - 1s 3ms/step - loss: 0.0645 - accuracy: 0.9780\n",
      "Epoch 27/40\n",
      "500/500 [==============================] - 1s 2ms/step - loss: 0.0633 - accuracy: 0.9820\n",
      "Epoch 28/40\n",
      "500/500 [==============================] - 1s 3ms/step - loss: 0.0699 - accuracy: 0.9780\n",
      "Epoch 29/40\n",
      "500/500 [==============================] - 1s 2ms/step - loss: 0.0639 - accuracy: 0.9780\n",
      "Epoch 30/40\n",
      "500/500 [==============================] - 1s 2ms/step - loss: 0.0605 - accuracy: 0.9780\n",
      "Epoch 31/40\n",
      "500/500 [==============================] - 1s 2ms/step - loss: 0.0658 - accuracy: 0.9740\n",
      "Epoch 32/40\n",
      "174/500 [=========>....................] - ETA: 0s - loss: 0.0793 - accuracy: 0.9655WARNING:tensorflow:Your input ran out of data; interrupting training. Make sure that your dataset or generator can generate at least `steps_per_epoch * epochs` batches (in this case, 20000 batches). You may need to use the repeat() function when building your dataset.\n",
      "500/500 [==============================] - 1s 1ms/step - loss: 0.0776 - accuracy: 0.9667\n"
     ]
    },
    {
     "data": {
      "image/png": "[encoded data removed]",
      "text/plain": [
       "<Figure size 432x288 with 1 Axes>"
      ]
     },
     "metadata": {
      "needs_background": "light"
     },
     "output_type": "display_data"
    }
   ],
   "source": [
    "model = Sequential()\n",
    "model.add(layers.GRU(32,\n",
    "                     dropout=0.2,\n",
    "                     recurrent_dropout=0.2,\n",
    "                     input_shape=(None, x_train.shape[-1])))\n",
    "model.add(layers.Dense(1))\n",
    "\n",
    "model.compile(optimizer='rmsprop', loss='mae', metrics=[\"accuracy\"])\n",
    "history = model.fit(x_train,\n",
    "                    y_train,\n",
    "                    steps_per_epoch=500,\n",
    "                    epochs=40)\n",
    "\n",
    "\n",
    "# Plot \n",
    "\n",
    "loss = history.history['loss']\n",
    "acc = history.history['accuracy']\n",
    "\n",
    "epochs = range(len(loss))\n",
    "\n",
    "plt.figure()\n",
    "plt.plot(epochs, loss, label='Training loss')\n",
    "plt.plot(epochs, acc, label='Training accuracy')\n",
    "plt.title('Training loss and accuracy with dropout')\n",
    "plt.legend()\n",
    "\n",
    "plt.show()\n",
    "\n"
   ]
  },
  {
   "attachments": {},
   "cell_type": "markdown",
   "metadata": {},
   "source": [
    "Dropout tentativo 1"
   ]
  },
  {
   "cell_type": "code",
   "execution_count": 107,
   "metadata": {},
   "outputs": [
    {
     "name": "stdout",
     "output_type": "stream",
     "text": [
      "Epoch 1/20\n",
      "500/500 [==============================] - 9s 13ms/step - loss: 0.3342 - accuracy: 0.8540\n",
      "Epoch 2/20\n",
      "500/500 [==============================] - 7s 13ms/step - loss: 0.0809 - accuracy: 0.9760\n",
      "Epoch 3/20\n",
      "500/500 [==============================] - 7s 13ms/step - loss: 0.1456 - accuracy: 0.9600\n",
      "Epoch 4/20\n",
      "500/500 [==============================] - 7s 14ms/step - loss: 0.0791 - accuracy: 0.9760\n",
      "Epoch 5/20\n",
      "500/500 [==============================] - 7s 13ms/step - loss: 0.0764 - accuracy: 0.9760\n",
      "Epoch 6/20\n",
      "500/500 [==============================] - 7s 14ms/step - loss: 0.0640 - accuracy: 0.9760\n",
      "Epoch 7/20\n",
      "500/500 [==============================] - 7s 15ms/step - loss: 0.0736 - accuracy: 0.9760\n",
      "Epoch 8/20\n",
      "500/500 [==============================] - 7s 15ms/step - loss: 0.0623 - accuracy: 0.9820\n",
      "Epoch 9/20\n",
      "500/500 [==============================] - 8s 16ms/step - loss: 0.0752 - accuracy: 0.9800\n",
      "Epoch 10/20\n",
      "500/500 [==============================] - 8s 16ms/step - loss: 0.0548 - accuracy: 0.9800\n",
      "Epoch 11/20\n",
      "500/500 [==============================] - 8s 15ms/step - loss: 0.0416 - accuracy: 0.9880\n",
      "Epoch 12/20\n",
      "500/500 [==============================] - 8s 16ms/step - loss: 0.0362 - accuracy: 0.9900\n",
      "Epoch 13/20\n",
      "500/500 [==============================] - 8s 16ms/step - loss: 0.0458 - accuracy: 0.9860\n",
      "Epoch 14/20\n",
      "500/500 [==============================] - 8s 16ms/step - loss: 0.0241 - accuracy: 0.9880\n",
      "Epoch 15/20\n",
      "500/500 [==============================] - 8s 16ms/step - loss: 0.0342 - accuracy: 0.9960\n",
      "Epoch 16/20\n",
      "339/500 [===================>..........] - ETA: 2s - loss: 0.0396 - accuracy: 0.9882WARNING:tensorflow:Your input ran out of data; interrupting training. Make sure that your dataset or generator can generate at least `steps_per_epoch * epochs` batches (in this case, 10000 batches). You may need to use the repeat() function when building your dataset.\n",
      "500/500 [==============================] - 5s 11ms/step - loss: 0.0395 - accuracy: 0.9882\n"
     ]
    },
    {
     "data": {
      "image/png": "[encoded data removed]",
      "text/plain": [
       "<Figure size 432x288 with 1 Axes>"
      ]
     },
     "metadata": {
      "needs_background": "light"
     },
     "output_type": "display_data"
    }
   ],
   "source": [
    "from keras import optimizers\n",
    "\n",
    "model = Sequential()\n",
    "model.add(layers.GRU(64,\n",
    "                     dropout=0.2,\n",
    "                     recurrent_dropout=0.2,\n",
    "                     input_shape=(None, x_train.shape[-1])))\n",
    "model.add(layers.Reshape((model.output_shape[1], 1)))\n",
    "model.add(layers.GRU(32))\n",
    "model.add(layers.Dense(1, activation='sigmoid'))\n",
    "\n",
    "optimizer = optimizers.Adam(learning_rate=0.001)  # Utilizzo dell'ottimizzatore Adam con un learning rate più basso\n",
    "model.compile(optimizer=optimizer, loss='binary_crossentropy', metrics=['accuracy'])  # Utilizzo della binary cross-entropy per un problema di classificazione binaria\n",
    "\n",
    "history1 = model.fit(x_train,\n",
    "                    y_train,\n",
    "                    steps_per_epoch=500,\n",
    "                    epochs=20)\n",
    "\n",
    "# Plot \n",
    "\n",
    "loss = history1.history['loss']\n",
    "acc = history1.history['accuracy']\n",
    "\n",
    "epochs = range(len(loss))\n",
    "\n",
    "plt.figure()\n",
    "plt.plot(epochs, loss, label='Training loss')\n",
    "plt.plot(epochs, acc, label='Training accuracy')\n",
    "plt.title('Training loss and accuracy with dropout')\n",
    "plt.legend()\n",
    "\n",
    "plt.show()"
   ]
  },
  {
   "attachments": {},
   "cell_type": "markdown",
   "metadata": {},
   "source": [
    "Dropout 1 * "
   ]
  },
  {
   "cell_type": "code",
   "execution_count": 106,
   "metadata": {},
   "outputs": [
    {
     "name": "stdout",
     "output_type": "stream",
     "text": [
      "Epoch 1/15\n",
      "500/500 [==============================] - 11s 15ms/step - loss: 0.2934 - accuracy: 0.8740\n",
      "Epoch 2/15\n",
      "500/500 [==============================] - 8s 15ms/step - loss: 0.1328 - accuracy: 0.9600\n",
      "Epoch 3/15\n",
      "500/500 [==============================] - 9s 18ms/step - loss: 0.0907 - accuracy: 0.9680\n",
      "Epoch 4/15\n",
      "500/500 [==============================] - 10s 19ms/step - loss: 0.0781 - accuracy: 0.9800\n",
      "Epoch 5/15\n",
      "500/500 [==============================] - 10s 20ms/step - loss: 0.0813 - accuracy: 0.9780\n",
      "Epoch 6/15\n",
      "500/500 [==============================] - 7s 14ms/step - loss: 0.0450 - accuracy: 0.9880\n",
      "Epoch 7/15\n",
      "500/500 [==============================] - 7s 14ms/step - loss: 0.0638 - accuracy: 0.9820\n",
      "Epoch 8/15\n",
      "500/500 [==============================] - 7s 14ms/step - loss: 0.0412 - accuracy: 0.9900\n",
      "Epoch 9/15\n",
      "500/500 [==============================] - 7s 13ms/step - loss: 0.0416 - accuracy: 0.9860\n",
      "Epoch 10/15\n",
      "500/500 [==============================] - 7s 14ms/step - loss: 0.0512 - accuracy: 0.9740\n",
      "Epoch 11/15\n",
      "500/500 [==============================] - 7s 13ms/step - loss: 0.0345 - accuracy: 0.9900\n",
      "Epoch 12/15\n",
      "380/500 [=====================>........] - ETA: 1s - loss: 0.0373 - accuracy: 0.9895WARNING:tensorflow:Your input ran out of data; interrupting training. Make sure that your dataset or generator can generate at least `steps_per_epoch * epochs` batches (in this case, 7500 batches). You may need to use the repeat() function when building your dataset.\n",
      "500/500 [==============================] - 5s 10ms/step - loss: 0.0373 - accuracy: 0.9895\n"
     ]
    },
    {
     "data": {
      "image/png": "[encoded data removed]",
      "text/plain": [
       "<Figure size 432x288 with 1 Axes>"
      ]
     },
     "metadata": {
      "needs_background": "light"
     },
     "output_type": "display_data"
    }
   ],
   "source": [
    "from keras import optimizers\n",
    "\n",
    "model = Sequential()\n",
    "model.add(layers.GRU(64,\n",
    "                     dropout=0.15,\n",
    "                     recurrent_dropout=0.15,\n",
    "                     input_shape=(None, x_train.shape[-1])))\n",
    "model.add(layers.Reshape((model.output_shape[1], 1)))\n",
    "model.add(layers.GRU(32))\n",
    "model.add(layers.Dense(1, activation='sigmoid'))\n",
    "\n",
    "optimizer = optimizers.Adam(learning_rate=0.001)  # Utilizzo dell'ottimizzatore Adam con un learning rate più basso\n",
    "model.compile(optimizer=optimizer, loss='binary_crossentropy', metrics=['accuracy'])  # Utilizzo della binary cross-entropy per un problema di classificazione binaria\n",
    "\n",
    "history2 = model.fit(x_train,\n",
    "                    y_train,\n",
    "                    steps_per_epoch=500,\n",
    "                    epochs=15)\n",
    "\n",
    "# Plot \n",
    "\n",
    "loss = history2.history['loss']\n",
    "acc = history2.history['accuracy']\n",
    "\n",
    "epochs = range(len(loss))\n",
    "\n",
    "plt.figure()\n",
    "plt.plot(epochs, loss, label='Training loss')\n",
    "plt.plot(epochs, acc, label='Training accuracy')\n",
    "plt.title('Training loss and accuracy with dropout')\n",
    "plt.legend()\n",
    "\n",
    "plt.show()"
   ]
  },
  {
   "attachments": {},
   "cell_type": "markdown",
   "metadata": {},
   "source": [
    "Confronto Dropout 0 e 1"
   ]
  },
  {
   "cell_type": "code",
   "execution_count": 109,
   "metadata": {},
   "outputs": [
    {
     "data": {
      "image/png": "[encoded data removed]",
      "text/plain": [
       "<Figure size 432x288 with 1 Axes>"
      ]
     },
     "metadata": {
      "needs_background": "light"
     },
     "output_type": "display_data"
    }
   ],
   "source": [
    "\n",
    "# Plot combinato\n",
    "plt.figure()\n",
    "\n",
    "# Grafico 1\n",
    "plt.plot(history.history['loss'], label='Training Loss 1')\n",
    "plt.plot(history.history['accuracy'], label='Training Accuracy 1')\n",
    "\n",
    "# Grafico 2\n",
    "plt.plot(history1.history['loss'], label='Training Loss 2')\n",
    "plt.plot(history1.history['accuracy'], label='Training Accuracy 2')\n",
    "\n",
    "# Grafico 3\n",
    "plt.plot(history2.history['loss'], label='Training Loss 3')\n",
    "plt.plot(history2.history['accuracy'], label='Training Accuracy 3')\n",
    "\n",
    "plt.title('Comparison of Training Loss and Accuracy')\n",
    "plt.xlabel('Epochs')\n",
    "plt.ylabel('Loss / Accuracy')\n",
    "plt.legend()\n",
    "\n",
    "plt.show()"
   ]
  },
  {
   "attachments": {},
   "cell_type": "markdown",
   "metadata": {},
   "source": [
    "LSTM "
   ]
  },
  {
   "cell_type": "code",
   "execution_count": null,
   "metadata": {},
   "outputs": [],
   "source": [
    "lstm_units = 128\n",
    "dense_units = 32  \n",
    "\n",
    "CompleteLSTM(x_train, x_test, y_train, y_test, results, ft, kf, perfInd, epochs, batch, lstm_units, dense_units, dropout_percentage, loss_function, metric)"
   ]
  }
 ],
 "metadata": {
  "kernelspec": {
   "display_name": "Python 3",
   "language": "python",
   "name": "python3"
  },
  "language_info": {
   "codemirror_mode": {
    "name": "ipython",
    "version": 3
   },
   "file_extension": ".py",
   "mimetype": "text/x-python",
   "name": "python",
   "nbconvert_exporter": "python",
   "pygments_lexer": "ipython3",
   "version": "3.9.12"
  },
  "orig_nbformat": 4
 },
 "nbformat": 4,
 "nbformat_minor": 2
}
