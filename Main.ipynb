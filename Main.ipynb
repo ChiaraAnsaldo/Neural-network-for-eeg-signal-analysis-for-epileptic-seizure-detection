{
 "cells": [
  {
   "cell_type": "code",
   "execution_count": 31,
   "metadata": {},
   "outputs": [],
   "source": [
    "import numpy as np\n",
    "import pandas as pd\n",
    "import matplotlib.pyplot as plt\n",
    "import tensorflow as tf\n",
    "import tensorflow.keras.backend as K\n",
    "\n",
    "from sklearn.model_selection import KFold\n",
    "from keras.models import Model, Sequential\n",
    "from keras import layers\n",
    "from keras.utils import to_categorical\n",
    "from sklearn.model_selection import train_test_split"
   ]
  },
  {
   "cell_type": "code",
   "execution_count": 17,
   "metadata": {},
   "outputs": [],
   "source": [
    "from ipynb.fs.full.DatasetManage import read_and_store_data\n",
    "from ipynb.fs.full.FeatureExtraction import feature_extraction\n",
    "from ipynb.fs.full.ClassificationPerformanceIndexes import classificationPerformanceIndexes, printClassificationPerformanceIndexes\n",
    "from ipynb.fs.full.ClassificationMethods import CompleteLSTM"
   ]
  },
  {
   "attachments": {},
   "cell_type": "markdown",
   "metadata": {},
   "source": [
    "Parameter"
   ]
  },
  {
   "cell_type": "code",
   "execution_count": 18,
   "metadata": {},
   "outputs": [],
   "source": [
    "perfInd = ['Accuracy', 'Sensitivity', 'Specificity', 'Precision', 'F1 Score', 'MCC', 'Kappa', 'Time']\n",
    "channels = ['FP1-F7', 'F7-T7','T7-P7', 'P7-O1', 'FP1-F3', 'F3-C3', 'C3-P3', 'P3-O1', 'FP2-F4', 'F4-C4', 'C4-P4', 'P4-O2', 'FP2-F8', 'F8-T8', 'T8-P8', 'P8-O2', 'FZ-CZ', 'CZ-PZ', 'seizure']\n",
    "\n",
    "dataset = 'CHB_MIT'\n",
    "csvImportFile = 'CHB.csv'\n",
    "csvExportFile = 'CHB.csv'\n",
    "sample_rate = 256\n",
    "time_window = 2\n",
    "step = time_window * sample_rate\n",
    "\n",
    "test_ratio = 0.3\n",
    "\n",
    "pca_tolerance = 0.9\n",
    "\n",
    "undersampling_rate = 0.2\n",
    "\n",
    "oversampling_neighbors = 11\n",
    "\n",
    "k_fold = 5\n",
    "\n",
    "csvAverageFile = 'Features.csv'\n",
    "\n",
    "batch = 10\n",
    "epochs = 100\n",
    "dropout_percentage = 0.2\n",
    "loss_function = 'mean_squared_error'\n",
    "metric = 'accuracy'"
   ]
  },
  {
   "attachments": {},
   "cell_type": "markdown",
   "metadata": {},
   "source": [
    "Create Training and Test Data"
   ]
  },
  {
   "cell_type": "code",
   "execution_count": 19,
   "metadata": {},
   "outputs": [],
   "source": [
    "def trainTestData (features, test_ratio, k_fold, perfInd):\n",
    "    x = features.loc[:, features.columns != 'seizure']\n",
    "    y = features['seizure']\n",
    "    x_train, x_test, y_train, y_test = train_test_split(x, y, test_size = test_ratio, shuffle = True)\n",
    "    results = pd.DataFrame(columns = perfInd)\n",
    "    kf = KFold(n_splits = k_fold, shuffle = True)\n",
    "    return x_train, x_test, y_train, y_test, results, kf"
   ]
  },
  {
   "attachments": {},
   "cell_type": "markdown",
   "metadata": {},
   "source": [
    "Read and Store Data"
   ]
  },
  {
   "cell_type": "code",
   "execution_count": 20,
   "metadata": {},
   "outputs": [
    {
     "name": "stdout",
     "output_type": "stream",
     "text": [
      "Reading data from CHB.csv\n"
     ]
    }
   ],
   "source": [
    "print('Reading data from', csvImportFile)\n",
    "df = pd.read_csv(csvImportFile, delimiter = ',', header = 0)"
   ]
  },
  {
   "attachments": {},
   "cell_type": "markdown",
   "metadata": {},
   "source": [
    "Feature Extraction "
   ]
  },
  {
   "cell_type": "code",
   "execution_count": 21,
   "metadata": {},
   "outputs": [],
   "source": [
    "# ft = feature_extraction(df, sample_rate, step, pca_tolerance, undersampling_rate, oversampling_neighbors)"
   ]
  },
  {
   "attachments": {},
   "cell_type": "markdown",
   "metadata": {},
   "source": [
    "Train and Test process"
   ]
  },
  {
   "cell_type": "code",
   "execution_count": 22,
   "metadata": {},
   "outputs": [],
   "source": [
    "ft = pd.read_csv(csvAverageFile, delimiter = ',', header = 0)"
   ]
  },
  {
   "cell_type": "code",
   "execution_count": 23,
   "metadata": {},
   "outputs": [],
   "source": [
    "x_train, x_test, y_train, y_test, results, kf = trainTestData (ft, test_ratio, k_fold, perfInd)\n",
    "\n",
    "x_train = np.reshape(x_train.values, (x_train.shape[0], 1, x_train.shape[1]))\n",
    "y_train = y_train.values.astype(int)\n",
    "x_test = np.reshape(x_test.values, (x_test.shape[0], 1, x_test.shape[1]))\n",
    "y_test = y_test.values.astype(int)"
   ]
  },
  {
   "cell_type": "code",
   "execution_count": 24,
   "metadata": {},
   "outputs": [
    {
     "ename": "NameError",
     "evalue": "name 'float_data' is not defined",
     "output_type": "error",
     "traceback": [
      "\u001b[1;31m---------------------------------------------------------------------------\u001b[0m",
      "\u001b[1;31mNameError\u001b[0m                                 Traceback (most recent call last)",
      "Cell \u001b[1;32mIn[24], line 2\u001b[0m\n\u001b[0;32m      1\u001b[0m model \u001b[39m=\u001b[39m Sequential()\n\u001b[1;32m----> 2\u001b[0m model\u001b[39m.\u001b[39madd(layers\u001b[39m.\u001b[39mConv1D(\u001b[39m8\u001b[39m, \u001b[39m24\u001b[39m, activation\u001b[39m=\u001b[39m\u001b[39m'\u001b[39m\u001b[39mrelu\u001b[39m\u001b[39m'\u001b[39m, input_shape\u001b[39m=\u001b[39m(\u001b[39mNone\u001b[39;00m, float_data\u001b[39m.\u001b[39mshape[\u001b[39m-\u001b[39m\u001b[39m1\u001b[39m])))\n\u001b[0;32m      3\u001b[0m model\u001b[39m.\u001b[39madd(layers\u001b[39m.\u001b[39mMaxPooling1D(\u001b[39m2\u001b[39m))\n\u001b[0;32m      4\u001b[0m model\u001b[39m.\u001b[39madd(layers\u001b[39m.\u001b[39mConv1D(\u001b[39m8\u001b[39m, \u001b[39m12\u001b[39m, activation\u001b[39m=\u001b[39m\u001b[39m'\u001b[39m\u001b[39mrelu\u001b[39m\u001b[39m'\u001b[39m))\n",
      "\u001b[1;31mNameError\u001b[0m: name 'float_data' is not defined"
     ]
    }
   ],
   "source": [
    "model = Sequential()\n",
    "model.add(layers.Conv1D(8, 24, activation='relu', input_shape=(None, float_data.shape[-1])))\n",
    "model.add(layers.MaxPooling1D(2))\n",
    "model.add(layers.Conv1D(8, 12, activation='relu'))\n",
    "model.add(layers.MaxPooling1D(2))\n",
    "model.add(layers.Conv1D(8, 6, activation='relu'))\n",
    "model.add(layers.GlobalAveragePooling1D())\n",
    "model.add(layers.Dense(1))\n",
    "\n",
    "\n",
    "history = model.fit(train_gen,\n",
    "                    steps_per_epoch=500,\n",
    "                    epochs=20,\n",
    "                    validation_data=val_gen,\n",
    "                    validation_steps=val_steps)\n"
   ]
  },
  {
   "attachments": {},
   "cell_type": "markdown",
   "metadata": {},
   "source": [
    "1D Convolutional Model"
   ]
  },
  {
   "cell_type": "code",
   "execution_count": 32,
   "metadata": {},
   "outputs": [
    {
     "ename": "AttributeError",
     "evalue": "module 'keras.backend' has no attribute 'RandomGenerator'",
     "output_type": "error",
     "traceback": [
      "\u001b[1;31m---------------------------------------------------------------------------\u001b[0m",
      "\u001b[1;31mAttributeError\u001b[0m                            Traceback (most recent call last)",
      "Cell \u001b[1;32mIn[32], line 7\u001b[0m\n\u001b[0;32m      4\u001b[0m input_channels \u001b[39m=\u001b[39m \u001b[39m87\u001b[39m\n\u001b[0;32m      6\u001b[0m model \u001b[39m=\u001b[39m tf\u001b[39m.\u001b[39mkeras\u001b[39m.\u001b[39mSequential()\n\u001b[1;32m----> 7\u001b[0m model\u001b[39m.\u001b[39madd(layers\u001b[39m.\u001b[39;49mConv1D(\u001b[39m8\u001b[39;49m, \u001b[39m24\u001b[39;49m, activation\u001b[39m=\u001b[39;49m\u001b[39m'\u001b[39;49m\u001b[39mrelu\u001b[39;49m\u001b[39m'\u001b[39;49m, input_shape\u001b[39m=\u001b[39;49m(\u001b[39m1\u001b[39;49m, input_channels)))\n\u001b[0;32m      8\u001b[0m model\u001b[39m.\u001b[39madd(layers\u001b[39m.\u001b[39mMaxPooling1D(\u001b[39m2\u001b[39m))\n\u001b[0;32m      9\u001b[0m model\u001b[39m.\u001b[39madd(layers\u001b[39m.\u001b[39mConv1D(\u001b[39m8\u001b[39m, \u001b[39m12\u001b[39m, activation\u001b[39m=\u001b[39m\u001b[39m'\u001b[39m\u001b[39mrelu\u001b[39m\u001b[39m'\u001b[39m))\n",
      "File \u001b[1;32mc:\\Users\\user\\AppData\\Local\\Programs\\Python\\Python310\\lib\\site-packages\\keras\\dtensor\\utils.py:96\u001b[0m, in \u001b[0;36mallow_initializer_layout.<locals>._wrap_function\u001b[1;34m(layer_instance, *args, **kwargs)\u001b[0m\n\u001b[0;32m     93\u001b[0m         \u001b[39mif\u001b[39;00m layout:\n\u001b[0;32m     94\u001b[0m             layout_args[variable_name \u001b[39m+\u001b[39m \u001b[39m\"\u001b[39m\u001b[39m_layout\u001b[39m\u001b[39m\"\u001b[39m] \u001b[39m=\u001b[39m layout\n\u001b[1;32m---> 96\u001b[0m init_method(layer_instance, \u001b[39m*\u001b[39margs, \u001b[39m*\u001b[39m\u001b[39m*\u001b[39mkwargs)\n\u001b[0;32m     98\u001b[0m \u001b[39m# Inject the layout parameter after the invocation of __init__()\u001b[39;00m\n\u001b[0;32m     99\u001b[0m \u001b[39mfor\u001b[39;00m layout_param_name, layout \u001b[39min\u001b[39;00m layout_args\u001b[39m.\u001b[39mitems():\n",
      "File \u001b[1;32mc:\\Users\\user\\AppData\\Local\\Programs\\Python\\Python310\\lib\\site-packages\\keras\\layers\\convolutional\\conv1d.py:167\u001b[0m, in \u001b[0;36mConv1D.__init__\u001b[1;34m(self, filters, kernel_size, strides, padding, data_format, dilation_rate, groups, activation, use_bias, kernel_initializer, bias_initializer, kernel_regularizer, bias_regularizer, activity_regularizer, kernel_constraint, bias_constraint, **kwargs)\u001b[0m\n\u001b[0;32m    135\u001b[0m \u001b[39m@utils\u001b[39m\u001b[39m.\u001b[39mallow_initializer_layout\n\u001b[0;32m    136\u001b[0m \u001b[39mdef\u001b[39;00m \u001b[39m__init__\u001b[39m(\n\u001b[0;32m    137\u001b[0m     \u001b[39mself\u001b[39m,\n\u001b[1;32m   (...)\u001b[0m\n\u001b[0;32m    154\u001b[0m     \u001b[39m*\u001b[39m\u001b[39m*\u001b[39mkwargs\n\u001b[0;32m    155\u001b[0m ):\n\u001b[0;32m    156\u001b[0m     \u001b[39msuper\u001b[39m()\u001b[39m.\u001b[39m\u001b[39m__init__\u001b[39m(\n\u001b[0;32m    157\u001b[0m         rank\u001b[39m=\u001b[39m\u001b[39m1\u001b[39m,\n\u001b[0;32m    158\u001b[0m         filters\u001b[39m=\u001b[39mfilters,\n\u001b[0;32m    159\u001b[0m         kernel_size\u001b[39m=\u001b[39mkernel_size,\n\u001b[0;32m    160\u001b[0m         strides\u001b[39m=\u001b[39mstrides,\n\u001b[0;32m    161\u001b[0m         padding\u001b[39m=\u001b[39mpadding,\n\u001b[0;32m    162\u001b[0m         data_format\u001b[39m=\u001b[39mdata_format,\n\u001b[0;32m    163\u001b[0m         dilation_rate\u001b[39m=\u001b[39mdilation_rate,\n\u001b[0;32m    164\u001b[0m         groups\u001b[39m=\u001b[39mgroups,\n\u001b[0;32m    165\u001b[0m         activation\u001b[39m=\u001b[39mactivations\u001b[39m.\u001b[39mget(activation),\n\u001b[0;32m    166\u001b[0m         use_bias\u001b[39m=\u001b[39muse_bias,\n\u001b[1;32m--> 167\u001b[0m         kernel_initializer\u001b[39m=\u001b[39minitializers\u001b[39m.\u001b[39;49mget(kernel_initializer),\n\u001b[0;32m    168\u001b[0m         bias_initializer\u001b[39m=\u001b[39minitializers\u001b[39m.\u001b[39mget(bias_initializer),\n\u001b[0;32m    169\u001b[0m         kernel_regularizer\u001b[39m=\u001b[39mregularizers\u001b[39m.\u001b[39mget(kernel_regularizer),\n\u001b[0;32m    170\u001b[0m         bias_regularizer\u001b[39m=\u001b[39mregularizers\u001b[39m.\u001b[39mget(bias_regularizer),\n\u001b[0;32m    171\u001b[0m         activity_regularizer\u001b[39m=\u001b[39mregularizers\u001b[39m.\u001b[39mget(activity_regularizer),\n\u001b[0;32m    172\u001b[0m         kernel_constraint\u001b[39m=\u001b[39mconstraints\u001b[39m.\u001b[39mget(kernel_constraint),\n\u001b[0;32m    173\u001b[0m         bias_constraint\u001b[39m=\u001b[39mconstraints\u001b[39m.\u001b[39mget(bias_constraint),\n\u001b[0;32m    174\u001b[0m         \u001b[39m*\u001b[39m\u001b[39m*\u001b[39mkwargs\n\u001b[0;32m    175\u001b[0m     )\n",
      "File \u001b[1;32mc:\\Users\\user\\AppData\\Local\\Programs\\Python\\Python310\\lib\\site-packages\\keras\\initializers\\__init__.py:207\u001b[0m, in \u001b[0;36mget\u001b[1;34m(identifier)\u001b[0m\n\u001b[0;32m    205\u001b[0m \u001b[39melif\u001b[39;00m \u001b[39misinstance\u001b[39m(identifier, \u001b[39mstr\u001b[39m):\n\u001b[0;32m    206\u001b[0m     identifier \u001b[39m=\u001b[39m \u001b[39mstr\u001b[39m(identifier)\n\u001b[1;32m--> 207\u001b[0m     \u001b[39mreturn\u001b[39;00m deserialize(identifier)\n\u001b[0;32m    208\u001b[0m \u001b[39melif\u001b[39;00m \u001b[39mcallable\u001b[39m(identifier):\n\u001b[0;32m    209\u001b[0m     \u001b[39mif\u001b[39;00m inspect\u001b[39m.\u001b[39misclass(identifier):\n",
      "File \u001b[1;32mc:\\Users\\user\\AppData\\Local\\Programs\\Python\\Python310\\lib\\site-packages\\keras\\initializers\\__init__.py:158\u001b[0m, in \u001b[0;36mdeserialize\u001b[1;34m(config, custom_objects, use_legacy_format)\u001b[0m\n\u001b[0;32m    150\u001b[0m     \u001b[39mreturn\u001b[39;00m legacy_serialization\u001b[39m.\u001b[39mdeserialize_keras_object(\n\u001b[0;32m    151\u001b[0m         config,\n\u001b[0;32m    152\u001b[0m         module_objects\u001b[39m=\u001b[39mLOCAL\u001b[39m.\u001b[39mALL_OBJECTS,\n\u001b[0;32m    153\u001b[0m         custom_objects\u001b[39m=\u001b[39mcustom_objects,\n\u001b[0;32m    154\u001b[0m         printable_module_name\u001b[39m=\u001b[39m\u001b[39m\"\u001b[39m\u001b[39minitializer\u001b[39m\u001b[39m\"\u001b[39m,\n\u001b[0;32m    155\u001b[0m     )\n\u001b[0;32m    157\u001b[0m \u001b[39m# To be replaced by new serialization_lib\u001b[39;00m\n\u001b[1;32m--> 158\u001b[0m \u001b[39mreturn\u001b[39;00m legacy_serialization\u001b[39m.\u001b[39;49mdeserialize_keras_object(\n\u001b[0;32m    159\u001b[0m     config,\n\u001b[0;32m    160\u001b[0m     module_objects\u001b[39m=\u001b[39;49mLOCAL\u001b[39m.\u001b[39;49mALL_OBJECTS,\n\u001b[0;32m    161\u001b[0m     custom_objects\u001b[39m=\u001b[39;49mcustom_objects,\n\u001b[0;32m    162\u001b[0m     printable_module_name\u001b[39m=\u001b[39;49m\u001b[39m\"\u001b[39;49m\u001b[39minitializer\u001b[39;49m\u001b[39m\"\u001b[39;49m,\n\u001b[0;32m    163\u001b[0m )\n",
      "File \u001b[1;32mc:\\Users\\user\\AppData\\Local\\Programs\\Python\\Python310\\lib\\site-packages\\keras\\saving\\legacy\\serialization.py:555\u001b[0m, in \u001b[0;36mdeserialize_keras_object\u001b[1;34m(identifier, module_objects, custom_objects, printable_module_name)\u001b[0m\n\u001b[0;32m    552\u001b[0m     \u001b[39m# Classes passed by name are instantiated with no args, functions are\u001b[39;00m\n\u001b[0;32m    553\u001b[0m     \u001b[39m# returned as-is.\u001b[39;00m\n\u001b[0;32m    554\u001b[0m     \u001b[39mif\u001b[39;00m tf_inspect\u001b[39m.\u001b[39misclass(obj):\n\u001b[1;32m--> 555\u001b[0m         \u001b[39mreturn\u001b[39;00m obj()\n\u001b[0;32m    556\u001b[0m     \u001b[39mreturn\u001b[39;00m obj\n\u001b[0;32m    557\u001b[0m \u001b[39melif\u001b[39;00m tf_inspect\u001b[39m.\u001b[39misfunction(identifier):\n\u001b[0;32m    558\u001b[0m     \u001b[39m# If a function has already been deserialized, return as is.\u001b[39;00m\n",
      "File \u001b[1;32mc:\\Users\\user\\AppData\\Local\\Programs\\Python\\Python310\\lib\\site-packages\\keras\\initializers\\initializers.py:874\u001b[0m, in \u001b[0;36mGlorotUniform.__init__\u001b[1;34m(self, seed)\u001b[0m\n\u001b[0;32m    873\u001b[0m \u001b[39mdef\u001b[39;00m \u001b[39m__init__\u001b[39m(\u001b[39mself\u001b[39m, seed\u001b[39m=\u001b[39m\u001b[39mNone\u001b[39;00m):\n\u001b[1;32m--> 874\u001b[0m     \u001b[39msuper\u001b[39;49m()\u001b[39m.\u001b[39;49m\u001b[39m__init__\u001b[39;49m(\n\u001b[0;32m    875\u001b[0m         scale\u001b[39m=\u001b[39;49m\u001b[39m1.0\u001b[39;49m, mode\u001b[39m=\u001b[39;49m\u001b[39m\"\u001b[39;49m\u001b[39mfan_avg\u001b[39;49m\u001b[39m\"\u001b[39;49m, distribution\u001b[39m=\u001b[39;49m\u001b[39m\"\u001b[39;49m\u001b[39muniform\u001b[39;49m\u001b[39m\"\u001b[39;49m, seed\u001b[39m=\u001b[39;49mseed\n\u001b[0;32m    876\u001b[0m     )\n",
      "File \u001b[1;32mc:\\Users\\user\\AppData\\Local\\Programs\\Python\\Python310\\lib\\site-packages\\keras\\initializers\\initializers.py:602\u001b[0m, in \u001b[0;36mVarianceScaling.__init__\u001b[1;34m(self, scale, mode, distribution, seed)\u001b[0m\n\u001b[0;32m    600\u001b[0m \u001b[39mself\u001b[39m\u001b[39m.\u001b[39mdistribution \u001b[39m=\u001b[39m distribution\n\u001b[0;32m    601\u001b[0m \u001b[39mself\u001b[39m\u001b[39m.\u001b[39mseed \u001b[39m=\u001b[39m seed\n\u001b[1;32m--> 602\u001b[0m \u001b[39mself\u001b[39m\u001b[39m.\u001b[39m_random_generator \u001b[39m=\u001b[39m backend\u001b[39m.\u001b[39;49mRandomGenerator(\n\u001b[0;32m    603\u001b[0m     seed, rng_type\u001b[39m=\u001b[39m\u001b[39m\"\u001b[39m\u001b[39mstateless\u001b[39m\u001b[39m\"\u001b[39m\n\u001b[0;32m    604\u001b[0m )\n",
      "\u001b[1;31mAttributeError\u001b[0m: module 'keras.backend' has no attribute 'RandomGenerator'"
     ]
    }
   ],
   "source": [
    "# Definizione dell'architettura della rete neurale\n",
    "\n",
    "num_classes = 2\n",
    "input_channels = 87\n",
    "\n",
    "model = tf.keras.Sequential()\n",
    "model.add(layers.Conv1D(8, 24, activation='relu', input_shape=(1, input_channels)))\n",
    "model.add(layers.MaxPooling1D(2))\n",
    "model.add(layers.Conv1D(8, 12, activation='relu'))\n",
    "model.add(layers.MaxPooling1D(2))\n",
    "model.add(layers.Conv1D(8, 6, activation='relu'))\n",
    "model.add(layers.GlobalAveragePooling1D())\n",
    "model.add(layers.Dense(64, activation='relu'))\n",
    "model.add(layers.Dense(num_classes, activation='softmax'))\n",
    "\n",
    "# Compilazione del modello\n",
    "model.compile(optimizer='adam',\n",
    "              loss='categorical_crossentropy',\n",
    "              metrics=['accuracy'])\n",
    "\n",
    "# model.compile(optimizer='rmsprop', loss='mae')\n",
    "\n",
    "# Training \n",
    "\n",
    "# X_train = X_train.reshape(-1, input_length, input_channels)\n",
    "\n",
    "num_epochs = 20\n",
    "batch_size = 8\n",
    "model.fit(x_train, y_train, epochs=num_epochs, batch_size=batch_size)\n",
    "\n",
    "# Evaluation of the model\n",
    "\n",
    "# X_test = X_test.reshape(-1, input_length, input_channels)\n",
    "loss, accuracy = model.evaluate(x_test, y_test, batch_size=batch_size)\n",
    "\n",
    "# Utilizzo del modello per effettuare predizioni\n",
    "predictions = model.predict(x_test)\n"
   ]
  },
  {
   "attachments": {},
   "cell_type": "markdown",
   "metadata": {},
   "source": [
    "1D CN"
   ]
  },
  {
   "cell_type": "code",
   "execution_count": null,
   "metadata": {},
   "outputs": [],
   "source": [
    "model = Sequential()\n",
    "model.add(layers.Conv1D(8, 24, activation='relu', input_shape=(None, ft.shape[-1])))\n",
    "model.add(layers.MaxPooling1D(2))\n",
    "model.add(layers.Conv1D(8, 12, activation='relu'))\n",
    "model.add(layers.MaxPooling1D(2))\n",
    "model.add(layers.Conv1D(8, 6, activation='relu'))\n",
    "model.add(layers.GlobalAveragePooling1D())\n",
    "model.add(layers.Dense(1))\n",
    "\n",
    "model.compile(optimizer='rmsprop', loss='mae')\n",
    "history = model.fit(x_train,\n",
    "                    steps_per_epoch=350,\n",
    "                    epochs=20)"
   ]
  },
  {
   "attachments": {},
   "cell_type": "markdown",
   "metadata": {},
   "source": [
    "GRU"
   ]
  },
  {
   "cell_type": "code",
   "execution_count": null,
   "metadata": {},
   "outputs": [],
   "source": [
    "model = Sequential()\n",
    "model.add(layers.GRU(32, input_shape=(None, ft.shape[-1])))\n",
    "model.add(layers.Dense(1))\n",
    "\n",
    "model.compile(optimizer='rmsprop', loss='mae')\n",
    "history = model.fit(x_train,\n",
    "                    steps_per_epoch=500,\n",
    "                    epochs=20)"
   ]
  },
  {
   "attachments": {},
   "cell_type": "markdown",
   "metadata": {},
   "source": [
    "RNN"
   ]
  },
  {
   "cell_type": "code",
   "execution_count": null,
   "metadata": {},
   "outputs": [],
   "source": []
  },
  {
   "attachments": {},
   "cell_type": "markdown",
   "metadata": {},
   "source": [
    "LSTM "
   ]
  },
  {
   "cell_type": "code",
   "execution_count": null,
   "metadata": {},
   "outputs": [],
   "source": [
    "lstm_units = 128\n",
    "dense_units = 32  \n",
    "\n",
    "CompleteLSTM(x_train, x_test, y_train, y_test, results, ft, kf, perfInd, epochs, batch, lstm_units, dense_units, dropout_percentage, loss_function, metric)"
   ]
  }
 ],
 "metadata": {
  "kernelspec": {
   "display_name": "Python 3",
   "language": "python",
   "name": "python3"
  },
  "language_info": {
   "codemirror_mode": {
    "name": "ipython",
    "version": 3
   },
   "file_extension": ".py",
   "mimetype": "text/x-python",
   "name": "python",
   "nbconvert_exporter": "python",
   "pygments_lexer": "ipython3",
   "version": "3.10.11"
  },
  "orig_nbformat": 4
 },
 "nbformat": 4,
 "nbformat_minor": 2
}
