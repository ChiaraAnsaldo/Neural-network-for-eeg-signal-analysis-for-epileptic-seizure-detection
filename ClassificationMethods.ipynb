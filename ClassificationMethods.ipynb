{
 "cells": [
  {
   "cell_type": "code",
   "execution_count": 1,
   "metadata": {},
   "outputs": [],
   "source": [
    "import time\n",
    "import numpy as np\n",
    "import pandas as pd\n",
    "from sklearn.svm import SVC\n",
    "from tensorflow.keras.regularizers import l2\n",
    "from tensorflow.keras.models import Sequential\n",
    "from tensorflow.keras.optimizers import Adam, SGD\n",
    "from tensorflow.keras.callbacks import EarlyStopping\n",
    "from tensorflow.keras.layers import Dense, Dropout, LSTM"
   ]
  },
  {
   "cell_type": "code",
   "execution_count": 2,
   "metadata": {},
   "outputs": [],
   "source": [
    "from ipynb.fs.full.ClassificationPerformanceIndexes import classificationPerformanceIndexes, printClassificationPerformanceIndexes"
   ]
  },
  {
   "attachments": {},
   "cell_type": "markdown",
   "metadata": {},
   "source": [
    "Feature Classification"
   ]
  },
  {
   "cell_type": "code",
   "execution_count": 3,
   "metadata": {},
   "outputs": [],
   "source": [
    "def TrainingKfold (X, train, test):\n",
    "    X_train = X.iloc[train,:X.shape[1]-1]\n",
    "    y_train = X.loc[train,'seizure']\n",
    "    X_test = X.iloc[test,:X.shape[1]-1]\n",
    "    y_test = X.loc[test,'seizure']\n",
    "    return X_train, y_train, X_test, y_test"
   ]
  },
  {
   "attachments": {},
   "cell_type": "markdown",
   "metadata": {},
   "source": [
    "LSTM"
   ]
  },
  {
   "cell_type": "code",
   "execution_count": 4,
   "metadata": {},
   "outputs": [],
   "source": [
    "def LstmModel (size, lstm_units, dense_units, dropout_percentage, loss_function, metric):\n",
    "    model = Sequential()\n",
    "    model.add(LSTM(lstm_units, recurrent_regularizer = l2(1e-2), activity_regularizer = l2(1e-4), bias_regularizer = l2(1e-6)))\n",
    "    model.add(Dropout(dropout_percentage))\n",
    "    model.add(Dense(dense_units, activation = 'relu', kernel_regularizer = l2(1e-3), bias_regularizer = l2(1e-2)))\n",
    "    model.add(Dropout(dropout_percentage/2))\n",
    "    model.add(Dense(1, activation = 'sigmoid', kernel_regularizer = l2(1e-3), bias_regularizer = l2(1e-2)))\n",
    "    model.compile(optimizer = Adam(learning_rate = 1e-3), loss = loss_function, metrics = metric)\n",
    "    return model"
   ]
  },
  {
   "cell_type": "code",
   "execution_count": 5,
   "metadata": {},
   "outputs": [],
   "source": [
    "def LSTM_method (model, X_train, y_train, X_test, y_test, batch, epochs, results):\n",
    "    print('Implementing LSTM...')\n",
    "    start = time.time()\n",
    "    es = EarlyStopping(monitor = 'val_loss', min_delta = 0, patience = 5, mode = 'auto', restore_best_weights = True, verbose = 0)\n",
    "    history = model.fit(X_train, y_train, batch_size = batch, epochs = epochs, validation_data = (X_test,y_test), callbacks = es, verbose = 0)\n",
    "    lstm_ind = (model.predict(X_test, batch_size = batch) >= 0.5).astype('int')\n",
    "    end = time.time()\n",
    "    t = round(end - start,2)\n",
    "    acc, snv, spc, ppv, f1, mcc, kappa, tt = classificationPerformanceIndexes (y_test, np.reshape(lstm_ind, lstm_ind.shape[0]), t)\n",
    "    results.loc['LSTM', :] = acc, snv, spc, ppv, f1, mcc, kappa, t\n",
    "    printClassificationPerformanceIndexes('LSTM', acc, snv, spc, ppv, f1, mcc, kappa)\n",
    "    print('LSTM finished in', t,'sec\\n')"
   ]
  },
  {
   "cell_type": "code",
   "execution_count": 6,
   "metadata": {},
   "outputs": [],
   "source": [
    "def LSTM_method_Kfold(X, kf, cols, model, batch, epochs, results):\n",
    "    f = pd.DataFrame(columns = cols)\n",
    "    print('Implementing LSTM k-fold...')\n",
    "    start = time.time()\n",
    "    es = EarlyStopping(monitor = 'val_loss', min_delta = 0, patience = 5, mode = 'auto', restore_best_weights = True, verbose = 0)\n",
    "    for train, test in kf.split(X):\n",
    "        X_train = X.iloc[train,:X.shape[1]-1]\n",
    "        X_train = np.reshape(X_train.values, (X_train.shape[0], 1, X_train.shape[1]))\n",
    "        y_train = X.loc[train,'seizure'].values.astype(int)\n",
    "        X_test = X.iloc[test,:X.shape[1]-1]\n",
    "        X_test = np.reshape(X_test.values, (X_test.shape[0], 1, X_test.shape[1]))\n",
    "        y_test = X.loc[test,'seizure'].values.astype(int)\n",
    "        history = model.fit(X_train, y_train, batch_size = batch, epochs = epochs, validation_data = (X_test,y_test), callbacks = es, verbose = 0)\n",
    "        lstm_ind = (model.predict(X_test, batch_size = batch) >= 0.5).astype('int')\n",
    "        f.loc[f.shape[0], :] = classificationPerformanceIndexes (y_test, np.reshape(lstm_ind, lstm_ind.shape[0]), 0)\n",
    "    end = time.time()\n",
    "    t = round(end - start,2)\n",
    "    acc, snv, spc, ppv, f1, mcc, kappa, tt = np.array(f.mean(axis=0))\n",
    "    results.loc['LSTM Kfold', :] = acc, snv, spc, ppv, f1, mcc, kappa, t\n",
    "    printClassificationPerformanceIndexes('LSTM Kfold', acc, snv, spc, ppv, f1, mcc, kappa)\n",
    "    print('LSTM finished in', t,'sec\\n')"
   ]
  },
  {
   "cell_type": "code",
   "execution_count": 7,
   "metadata": {},
   "outputs": [],
   "source": [
    "def CompleteLSTM (train_dat, test_dat, train_ind, test_ind, results, ft, kf, perfInd, epochs, batch, lstm_units, dense_units, dropout_percentage, loss_function, metric):\n",
    "    X_train = np.reshape(train_dat.values, (train_dat.shape[0], 1, train_dat.shape[1]))\n",
    "    y_train = train_ind.values.astype(int)\n",
    "    X_test = np.reshape(test_dat.values, (test_dat.shape[0], 1, test_dat.shape[1]))\n",
    "    y_test = test_ind.values.astype(int)\n",
    "\n",
    "    lstm_model = LstmModel (train_dat.shape[1], lstm_units, dense_units, dropout_percentage, loss_function, metric)\n",
    "    LSTM_method (lstm_model, X_train, y_train, X_test, y_test, batch, epochs, results)\n",
    "    LSTM_method_Kfold (ft, kf, perfInd, lstm_model, batch, epochs, results)"
   ]
  }
 ],
 "metadata": {
  "kernelspec": {
   "display_name": "Python 3",
   "language": "python",
   "name": "python3"
  },
  "language_info": {
   "codemirror_mode": {
    "name": "ipython",
    "version": 3
   },
   "file_extension": ".py",
   "mimetype": "text/x-python",
   "name": "python",
   "nbconvert_exporter": "python",
   "pygments_lexer": "ipython3",
   "version": "3.10.11"
  },
  "orig_nbformat": 4
 },
 "nbformat": 4,
 "nbformat_minor": 2
}
