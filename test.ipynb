{
 "cells": [
  {
   "cell_type": "code",
   "execution_count": 1,
   "metadata": {},
   "outputs": [],
   "source": [
    "import numpy as np\n",
    "import statistics\n",
    "OutputPathModels='model/4/' #path of folder containing the files of the output of the model in the text phase"
   ]
  },
  {
   "cell_type": "code",
   "execution_count": 3,
   "metadata": {},
   "outputs": [
    {
     "name": "stdout",
     "output_type": "stream",
     "text": [
      "01   AVG_Sens= 42.857142857142854 +- 53.45224838248488   AVG_FPR= 0.13714285714285715 +- 0.23421601750764795\n",
      "02   AVG_Sens= 66.66666666666667 +- 57.735026918962575   AVG_FPR= 0.0 +- 0.0\n",
      "03   AVG_Sens= 100.0 +- 0.0   AVG_FPR= 0.021621621621621623 +- 0.05296194038450115\n",
      "05   AVG_Sens= 100.0 +- 0.0   AVG_FPR= 0.0 +- 0.0\n",
      "09   AVG_Sens= 85.71428571428571 +- 28.571428571428573   AVG_FPR= 0.0 +- 0.0\n"
     ]
    }
   ],
   "source": [
    "pat=[\"01\"]\n",
    "pat=[\"01\",\"02\",\"03\",\"05\",\"09\"]\n",
    "nSeizure=[7,3,6,5,4,7,7]\n",
    "#nSeizure=[7,3,5]\n",
    "secondsInterictalInTest=[7500, 37500, 55500, 50000, 110000,124500, 133500]\n",
    "threshold=[0.6, 0.8, 0.4, 0.3, 0.4, 0.6, 0.3]\n",
    "#totSens=0\n",
    "#totFPR\n",
    "for j in range(0,len(pat)):\n",
    "    sensResults=[]\n",
    "    FPRResults=[]\n",
    "    for i in range(0, nSeizure[j]):            \n",
    "        interPrediction=np.loadtxt(OutputPathModels+\"OutputTest\"+\"/\"+\"Int_\"+pat[j]+\"_\"+str(i+1)+\".csv\",delimiter=',')\n",
    "        preictPrediction=np.loadtxt(OutputPathModels+\"OutputTest\"+\"/\"+\"Pre_\"+pat[j]+\"_\"+str(i+1)+\".csv\",delimiter=',')\n",
    "        \n",
    "        acc=0#accumulator\n",
    "        fp=0\n",
    "        tp=0\n",
    "        fn=0\n",
    "        lastTenResult=list()\n",
    "        \n",
    "        for el in interPrediction:\n",
    "            if(el[1]>threshold[j]):\n",
    "                acc=acc+1\n",
    "                lastTenResult.append(1)\n",
    "            else:\n",
    "                lastTenResult.append(0)\n",
    "            if(len(lastTenResult)>10):\n",
    "                acc=acc-lastTenResult.pop(0)\n",
    "            if(acc>=8):\n",
    "                fp=fp+1\n",
    "                lastTenResult=list()\n",
    "                acc=0\n",
    "        \n",
    "        lastTenResult=list()\n",
    "        for el in preictPrediction:\n",
    "            if(el[1]>threshold[j]):\n",
    "                acc=acc+1\n",
    "                lastTenResult.append(1)\n",
    "            else:\n",
    "                lastTenResult.append(0)\n",
    "            if(len(lastTenResult)>10):\n",
    "                acc=acc-lastTenResult.pop(0)\n",
    "            if(acc>=8):\n",
    "                tp=tp+1 \n",
    "            else:\n",
    "                if(len(lastTenResult)==10):\n",
    "                    fn=fn+1 \n",
    "        if(tp+fn)!=0:          \n",
    "            sensitivity=tp/(tp+fn)*100\n",
    "        else:\n",
    "            sensitivity = 0\n",
    "        FPR=fp/(secondsInterictalInTest[j]/(60*60))\n",
    "        sensResults.append(sensitivity)\n",
    "        FPRResults.append(FPR)\n",
    "            \n",
    "    sdSENS=statistics.stdev(sensResults)\n",
    "    avSENS=statistics.mean(sensResults)\n",
    "    \n",
    "    sdFPR=statistics.stdev(FPRResults)\n",
    "    avFPR=statistics.mean(FPRResults)\n",
    "    print(pat[j]+\"   AVG_Sens= \"+str(avSENS)+\" +- \"+str(sdSENS)+\"   AVG_FPR= \"+str(avFPR)+\" +- \"+str(sdFPR))\n"
   ]
  }
 ],
 "metadata": {
  "kernelspec": {
   "display_name": "Python 3",
   "language": "python",
   "name": "python3"
  },
  "language_info": {
   "codemirror_mode": {
    "name": "ipython",
    "version": 3
   },
   "file_extension": ".py",
   "mimetype": "text/x-python",
   "name": "python",
   "nbconvert_exporter": "python",
   "pygments_lexer": "ipython3",
   "version": "3.10.11"
  },
  "orig_nbformat": 4
 },
 "nbformat": 4,
 "nbformat_minor": 2
}
