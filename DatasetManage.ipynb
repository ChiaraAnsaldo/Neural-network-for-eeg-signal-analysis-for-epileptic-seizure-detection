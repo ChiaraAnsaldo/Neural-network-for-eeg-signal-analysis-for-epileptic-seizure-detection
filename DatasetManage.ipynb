{
 "cells": [
  {
   "cell_type": "code",
   "execution_count": 1,
   "metadata": {},
   "outputs": [],
   "source": [
    "import numpy as np\n",
    "import pandas as pd\n",
    "from pathlib import Path\n",
    "from pyedflib import EdfReader\n",
    "from tqdm.notebook import tqdm"
   ]
  },
  {
   "cell_type": "code",
   "execution_count": null,
   "metadata": {},
   "outputs": [],
   "source": [
    "'''\n",
    "https://www.mathworks.com/matlabcentral/answers/225716-how-i-can-read-chb01_03-edf-seizures-file-from-chb-mit-database-in-matlab-as-i-am-using-this-file-f\n",
    "Returns start time and length of the seizure\n",
    "'''\n",
    "def get_seizure_period(file_location):\n",
    "    bytes_array = []\n",
    "    for b in Path(file_location).read_bytes(): bytes_array.append(b)\n",
    "    return int(str(bin(bytes_array[38]))[2:] + str(bin(bytes_array[41]))[2:],2), bytes_array[49]"
   ]
  },
  {
   "cell_type": "code",
   "execution_count": null,
   "metadata": {},
   "outputs": [],
   "source": [
    "'''\n",
    "List of numpy array, each position contains a patient's array of data\n",
    "'''\n",
    "def read_and_store_data (dataset_folder, sample_rate, channels) :\n",
    "    initial_path = getcwd()\n",
    "    chdir(dataset_folder)\n",
    "    \n",
    "    patients = [d for d in listdir() if path.isdir(d) and d.startswith('chb')]\n",
    "    patients.sort()\n",
    "    arr = np.array([], dtype=np.float64).reshape(0, len(channels))\n",
    "    for p in patients:\n",
    "        chdir(p)\n",
    "        print('Reading data of patient', p)\n",
    "        \n",
    "        # for each patient specify the edf files and the seizure files\n",
    "        edf = [f for f in listdir() if path.isfile(f) and f.endswith('edf')]\n",
    "        edf.sort()\n",
    "        seizures = [f for f in listdir() if path.isfile(f) and f.endswith('seizures')]\n",
    "        seizures.sort()\n",
    "        for e in tqdm(edf):\n",
    "            sigbufs = readEdfFile(e, channels)\n",
    "            if seizures and seizures[0].startswith(e):\n",
    "                (start, length) = get_seizure_period(seizures[0])\n",
    "                for i in range(start * sample_rate, (start+length)*sample_rate + 1):\n",
    "                    sigbufs[i][len(channels)-1] = 1.0\n",
    "                seizures.pop(0)\n",
    "        arr = np.concatenate([arr, sigbufs])\n",
    "        chdir('..')\n",
    "    chdir(initial_path)\n",
    "    \n",
    "    df = pd.DataFrame(arr, columns = channels)\n",
    "    df.reset_index(drop = True, inplace = True)\n",
    "    return df"
   ]
  }
 ],
 "metadata": {
  "kernelspec": {
   "display_name": "Python 3",
   "language": "python",
   "name": "python3"
  },
  "language_info": {
   "codemirror_mode": {
    "name": "ipython",
    "version": 3
   },
   "file_extension": ".py",
   "mimetype": "text/x-python",
   "name": "python",
   "nbconvert_exporter": "python",
   "pygments_lexer": "ipython3",
   "version": "3.10.11"
  },
  "orig_nbformat": 4
 },
 "nbformat": 4,
 "nbformat_minor": 2
}
